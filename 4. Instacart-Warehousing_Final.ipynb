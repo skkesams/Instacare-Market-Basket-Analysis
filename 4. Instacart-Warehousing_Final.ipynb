{
 "cells": [
  {
   "cell_type": "markdown",
   "metadata": {
    "id": "aiIIERjzqBCX"
   },
   "source": [
    "## Problem Statement: Instacart is stuggling with its increasing warehousing costs, recommend ways to reduce it."
   ]
  },
  {
   "cell_type": "markdown",
   "metadata": {
    "colab": {
     "base_uri": "https://localhost:8080/"
    },
    "id": "RfX7pQKzogD7",
    "outputId": "2a0cc346-1d60-480d-aa78-a4f6d482007b"
   },
   "source": [
    "My approach:\n",
    "\n",
    "To reduce the warehousing costs, proper inventory management is required. In this notebook, market research is done utilizing the dataset of orders, opensourced by Instacart, which will help in identifying the products, departments, aisles that are not important and can be removed from the warehouses, thus reducing warehousing costs."
   ]
  },
  {
   "cell_type": "code",
   "execution_count": 1,
   "metadata": {
    "id": "c85S7fBRolTr"
   },
   "outputs": [],
   "source": [
    "# Libraries\n",
    "import pandas as pd\n",
    "import numpy as np\n",
    "import matplotlib.pyplot as plt\n",
    "%matplotlib inline\n",
    "import seaborn as sns\n",
    "\n",
    "from functools import partial # to reduce df memory consumption by applying to_numeric\n",
    "color = sns.color_palette() # adjusting plotting style\n",
    "import warnings\n",
    "warnings.filterwarnings('ignore') # silence annoying warnings"
   ]
  },
  {
   "cell_type": "code",
   "execution_count": 2,
   "metadata": {
    "id": "7zOegcbGpcKp"
   },
   "outputs": [],
   "source": [
    "order_products_train = pd.read_csv('order_products__train.csv')\n",
    "order_products_prior = pd.read_csv('order_products__prior.csv')\n",
    "orders = pd.read_csv('orders.csv')\n",
    "products = pd.read_csv('products.csv')\n",
    "aisles = pd.read_csv('aisles.csv')\n",
    "departments = pd.read_csv('departments.csv')"
   ]
  },
  {
   "cell_type": "markdown",
   "metadata": {
    "id": "NEcWUzoU02Y_"
   },
   "source": [
    "### Firstly lets look at order table"
   ]
  },
  {
   "cell_type": "code",
   "execution_count": 3,
   "metadata": {
    "colab": {
     "base_uri": "https://localhost:8080/",
     "height": 204
    },
    "id": "APi1lnyi034Y",
    "outputId": "92368eda-6efd-4c62-d3d3-0403a3699c55"
   },
   "outputs": [
    {
     "data": {
      "text/html": [
       "<div>\n",
       "<style scoped>\n",
       "    .dataframe tbody tr th:only-of-type {\n",
       "        vertical-align: middle;\n",
       "    }\n",
       "\n",
       "    .dataframe tbody tr th {\n",
       "        vertical-align: top;\n",
       "    }\n",
       "\n",
       "    .dataframe thead th {\n",
       "        text-align: right;\n",
       "    }\n",
       "</style>\n",
       "<table border=\"1\" class=\"dataframe\">\n",
       "  <thead>\n",
       "    <tr style=\"text-align: right;\">\n",
       "      <th></th>\n",
       "      <th>order_id</th>\n",
       "      <th>user_id</th>\n",
       "      <th>eval_set</th>\n",
       "      <th>order_number</th>\n",
       "      <th>order_dow</th>\n",
       "      <th>order_hour_of_day</th>\n",
       "      <th>days_since_prior_order</th>\n",
       "    </tr>\n",
       "  </thead>\n",
       "  <tbody>\n",
       "    <tr>\n",
       "      <th>0</th>\n",
       "      <td>2539329</td>\n",
       "      <td>1</td>\n",
       "      <td>prior</td>\n",
       "      <td>1</td>\n",
       "      <td>2</td>\n",
       "      <td>8</td>\n",
       "      <td>NaN</td>\n",
       "    </tr>\n",
       "    <tr>\n",
       "      <th>1</th>\n",
       "      <td>2398795</td>\n",
       "      <td>1</td>\n",
       "      <td>prior</td>\n",
       "      <td>2</td>\n",
       "      <td>3</td>\n",
       "      <td>7</td>\n",
       "      <td>15.0</td>\n",
       "    </tr>\n",
       "    <tr>\n",
       "      <th>2</th>\n",
       "      <td>473747</td>\n",
       "      <td>1</td>\n",
       "      <td>prior</td>\n",
       "      <td>3</td>\n",
       "      <td>3</td>\n",
       "      <td>12</td>\n",
       "      <td>21.0</td>\n",
       "    </tr>\n",
       "    <tr>\n",
       "      <th>3</th>\n",
       "      <td>2254736</td>\n",
       "      <td>1</td>\n",
       "      <td>prior</td>\n",
       "      <td>4</td>\n",
       "      <td>4</td>\n",
       "      <td>7</td>\n",
       "      <td>29.0</td>\n",
       "    </tr>\n",
       "    <tr>\n",
       "      <th>4</th>\n",
       "      <td>431534</td>\n",
       "      <td>1</td>\n",
       "      <td>prior</td>\n",
       "      <td>5</td>\n",
       "      <td>4</td>\n",
       "      <td>15</td>\n",
       "      <td>28.0</td>\n",
       "    </tr>\n",
       "  </tbody>\n",
       "</table>\n",
       "</div>"
      ],
      "text/plain": [
       "   order_id  user_id eval_set  order_number  order_dow  order_hour_of_day  \\\n",
       "0   2539329        1    prior             1          2                  8   \n",
       "1   2398795        1    prior             2          3                  7   \n",
       "2    473747        1    prior             3          3                 12   \n",
       "3   2254736        1    prior             4          4                  7   \n",
       "4    431534        1    prior             5          4                 15   \n",
       "\n",
       "   days_since_prior_order  \n",
       "0                     NaN  \n",
       "1                    15.0  \n",
       "2                    21.0  \n",
       "3                    29.0  \n",
       "4                    28.0  "
      ]
     },
     "execution_count": 3,
     "metadata": {},
     "output_type": "execute_result"
    }
   ],
   "source": [
    "orders.head(5)"
   ]
  },
  {
   "cell_type": "markdown",
   "metadata": {
    "id": "lFcliv664Yng"
   },
   "source": [
    "### At what hours people are ordering the most"
   ]
  },
  {
   "cell_type": "code",
   "execution_count": 4,
   "metadata": {
    "colab": {
     "base_uri": "https://localhost:8080/",
     "height": 609
    },
    "id": "e45996wW4MXw",
    "outputId": "3235a65e-93c7-4cbf-9a3a-318b07733f8f"
   },
   "outputs": [
    {
     "data": {
      "image/png": "[encoded data removed]",
      "text/plain": [
       "<Figure size 1080x720 with 1 Axes>"
      ]
     },
     "metadata": {},
     "output_type": "display_data"
    }
   ],
   "source": [
    "grouped_time = orders.groupby(\"order_id\")[\"order_hour_of_day\"].aggregate(\"sum\").reset_index()\n",
    "grouped_time = grouped_time.order_hour_of_day.value_counts()\n",
    "\n",
    "sns.set_style('darkgrid')\n",
    "f, ax = plt.subplots(figsize=(15, 10))\n",
    "sns.barplot(grouped_time.index, grouped_time.values)\n",
    "plt.ylabel('Number of orders', fontsize=12)\n",
    "plt.xlabel('Hours of order in a day', fontsize=12)\n",
    "plt.show()"
   ]
  },
  {
   "cell_type": "markdown",
   "metadata": {
    "id": "qmrXqmARU0-B"
   },
   "source": [
    "Most of the people order after** 9 am** and the statistics are almost steady till **3 pm**, but after 4 pm, numbers of order decline!"
   ]
  },
  {
   "cell_type": "markdown",
   "metadata": {
    "id": "50ZzKb7C4mPG"
   },
   "source": [
    "### On which days people are ordering the most?"
   ]
  },
  {
   "cell_type": "code",
   "execution_count": 5,
   "metadata": {
    "colab": {
     "base_uri": "https://localhost:8080/",
     "height": 609
    },
    "id": "Oiwv9vaD4s02",
    "outputId": "e6b23a47-06b5-4757-b2c2-43589c5093a5"
   },
   "outputs": [
    {
     "data": {
      "image/png": "[encoded data removed]",
      "text/plain": [
       "<Figure size 720x720 with 1 Axes>"
      ]
     },
     "metadata": {},
     "output_type": "display_data"
    }
   ],
   "source": [
    "grouped_days = orders.groupby(\"order_id\")[\"order_dow\"].aggregate(\"sum\").reset_index()\n",
    "grouped_days = grouped_days.order_dow.value_counts()\n",
    "\n",
    "f, ax = plt.subplots(figsize=(10, 10))\n",
    "sns.barplot(grouped_days.index, grouped_days.values)\n",
    "plt.ylabel('Number of orders', fontsize=12)\n",
    "plt.xlabel('Days of order in a week', fontsize=12)\n",
    "plt.show()"
   ]
  },
  {
   "cell_type": "markdown",
   "metadata": {
    "id": "YouRvi4BVO2m"
   },
   "source": [
    "**Monday** and **Tuesday** are the days in which relative number of orders are lightly higher!"
   ]
  },
  {
   "cell_type": "code",
   "execution_count": 6,
   "metadata": {
    "colab": {
     "base_uri": "https://localhost:8080/",
     "height": 609
    },
    "id": "4oi15cwS5W8O",
    "outputId": "48986bf6-767f-415a-fe2e-0eba600fc961"
   },
   "outputs": [
    {
     "data": {
      "image/png": "[encoded data removed]",
      "text/plain": [
       "<Figure size 1080x720 with 1 Axes>"
      ]
     },
     "metadata": {},
     "output_type": "display_data"
    }
   ],
   "source": [
    "grouped_redays = orders.groupby(\"order_id\")[\"days_since_prior_order\"].aggregate(\"sum\").reset_index()\n",
    "grouped_redays = grouped_redays.days_since_prior_order.value_counts()\n",
    "\n",
    "from matplotlib.ticker import FormatStrFormatter\n",
    "f, ax = plt.subplots(figsize=(15, 10))\n",
    "sns.barplot(grouped_redays.index, grouped_redays.values)\n",
    "ax.xaxis.set_major_formatter(FormatStrFormatter('%.0f'))\n",
    "plt.ylabel('Number of orders', fontsize=12)\n",
    "plt.xlabel('Period of reorder', fontsize=12)\n",
    "plt.show()"
   ]
  },
  {
   "cell_type": "markdown",
   "metadata": {
    "id": "l0P68-Ui5xmA"
   },
   "source": [
    "**It looks like there are a lot of offers on 30th!** **haha!**"
   ]
  },
  {
   "cell_type": "markdown",
   "metadata": {
    "id": "MlFp76BztG9l"
   },
   "source": [
    "Let's look at the order_products_train and order_products_prior files now. The products purchased in each order are listed in these files. More particular, order_products_prior holds the contents of past orders for all customers, whereas order_products_train only includes the contents of recent orders for a subset of customers."
   ]
  },
  {
   "cell_type": "code",
   "execution_count": 7,
   "metadata": {
    "colab": {
     "base_uri": "https://localhost:8080/",
     "height": 204
    },
    "id": "qguyNFHbts42",
    "outputId": "91d9e60b-435b-4088-9068-628c6602cfbd"
   },
   "outputs": [
    {
     "data": {
      "text/html": [
       "<div>\n",
       "<style scoped>\n",
       "    .dataframe tbody tr th:only-of-type {\n",
       "        vertical-align: middle;\n",
       "    }\n",
       "\n",
       "    .dataframe tbody tr th {\n",
       "        vertical-align: top;\n",
       "    }\n",
       "\n",
       "    .dataframe thead th {\n",
       "        text-align: right;\n",
       "    }\n",
       "</style>\n",
       "<table border=\"1\" class=\"dataframe\">\n",
       "  <thead>\n",
       "    <tr style=\"text-align: right;\">\n",
       "      <th></th>\n",
       "      <th>order_id</th>\n",
       "      <th>product_id</th>\n",
       "      <th>add_to_cart_order</th>\n",
       "      <th>reordered</th>\n",
       "    </tr>\n",
       "  </thead>\n",
       "  <tbody>\n",
       "    <tr>\n",
       "      <th>0</th>\n",
       "      <td>1</td>\n",
       "      <td>49302</td>\n",
       "      <td>1</td>\n",
       "      <td>1</td>\n",
       "    </tr>\n",
       "    <tr>\n",
       "      <th>1</th>\n",
       "      <td>1</td>\n",
       "      <td>11109</td>\n",
       "      <td>2</td>\n",
       "      <td>1</td>\n",
       "    </tr>\n",
       "    <tr>\n",
       "      <th>2</th>\n",
       "      <td>1</td>\n",
       "      <td>10246</td>\n",
       "      <td>3</td>\n",
       "      <td>0</td>\n",
       "    </tr>\n",
       "    <tr>\n",
       "      <th>3</th>\n",
       "      <td>1</td>\n",
       "      <td>49683</td>\n",
       "      <td>4</td>\n",
       "      <td>0</td>\n",
       "    </tr>\n",
       "    <tr>\n",
       "      <th>4</th>\n",
       "      <td>1</td>\n",
       "      <td>43633</td>\n",
       "      <td>5</td>\n",
       "      <td>1</td>\n",
       "    </tr>\n",
       "  </tbody>\n",
       "</table>\n",
       "</div>"
      ],
      "text/plain": [
       "   order_id  product_id  add_to_cart_order  reordered\n",
       "0         1       49302                  1          1\n",
       "1         1       11109                  2          1\n",
       "2         1       10246                  3          0\n",
       "3         1       49683                  4          0\n",
       "4         1       43633                  5          1"
      ]
     },
     "execution_count": 7,
     "metadata": {},
     "output_type": "execute_result"
    }
   ],
   "source": [
    "order_products_train.head()"
   ]
  },
  {
   "cell_type": "code",
   "execution_count": 8,
   "metadata": {
    "colab": {
     "base_uri": "https://localhost:8080/",
     "height": 204
    },
    "id": "dYz5e4y8tvgg",
    "outputId": "0ddea869-5fe2-4ae7-d210-9478eedebc28"
   },
   "outputs": [
    {
     "data": {
      "text/html": [
       "<div>\n",
       "<style scoped>\n",
       "    .dataframe tbody tr th:only-of-type {\n",
       "        vertical-align: middle;\n",
       "    }\n",
       "\n",
       "    .dataframe tbody tr th {\n",
       "        vertical-align: top;\n",
       "    }\n",
       "\n",
       "    .dataframe thead th {\n",
       "        text-align: right;\n",
       "    }\n",
       "</style>\n",
       "<table border=\"1\" class=\"dataframe\">\n",
       "  <thead>\n",
       "    <tr style=\"text-align: right;\">\n",
       "      <th></th>\n",
       "      <th>order_id</th>\n",
       "      <th>product_id</th>\n",
       "      <th>add_to_cart_order</th>\n",
       "      <th>reordered</th>\n",
       "    </tr>\n",
       "  </thead>\n",
       "  <tbody>\n",
       "    <tr>\n",
       "      <th>0</th>\n",
       "      <td>2</td>\n",
       "      <td>33120</td>\n",
       "      <td>1</td>\n",
       "      <td>1</td>\n",
       "    </tr>\n",
       "    <tr>\n",
       "      <th>1</th>\n",
       "      <td>2</td>\n",
       "      <td>28985</td>\n",
       "      <td>2</td>\n",
       "      <td>1</td>\n",
       "    </tr>\n",
       "    <tr>\n",
       "      <th>2</th>\n",
       "      <td>2</td>\n",
       "      <td>9327</td>\n",
       "      <td>3</td>\n",
       "      <td>0</td>\n",
       "    </tr>\n",
       "    <tr>\n",
       "      <th>3</th>\n",
       "      <td>2</td>\n",
       "      <td>45918</td>\n",
       "      <td>4</td>\n",
       "      <td>1</td>\n",
       "    </tr>\n",
       "    <tr>\n",
       "      <th>4</th>\n",
       "      <td>2</td>\n",
       "      <td>30035</td>\n",
       "      <td>5</td>\n",
       "      <td>0</td>\n",
       "    </tr>\n",
       "  </tbody>\n",
       "</table>\n",
       "</div>"
      ],
      "text/plain": [
       "   order_id  product_id  add_to_cart_order  reordered\n",
       "0         2       33120                  1          1\n",
       "1         2       28985                  2          1\n",
       "2         2        9327                  3          0\n",
       "3         2       45918                  4          1\n",
       "4         2       30035                  5          0"
      ]
     },
     "execution_count": 8,
     "metadata": {},
     "output_type": "execute_result"
    }
   ],
   "source": [
    "order_products_prior.head()"
   ]
  },
  {
   "cell_type": "code",
   "execution_count": 9,
   "metadata": {
    "colab": {
     "base_uri": "https://localhost:8080/"
    },
    "id": "FeaZZj2Tt6NQ",
    "outputId": "188d2142-382e-49fa-ebb4-27de6a398ecb"
   },
   "outputs": [
    {
     "name": "stdout",
     "output_type": "stream",
     "text": [
      "The order_products_train size is :  (1384617, 4)\n",
      "The order_products_prior size is :  (32434489, 4)\n"
     ]
    }
   ],
   "source": [
    "print(\"The order_products_train size is : \", order_products_train.shape)\n",
    "print(\"The order_products_prior size is : \", order_products_prior.shape)"
   ]
  },
  {
   "cell_type": "code",
   "execution_count": 10,
   "metadata": {
    "id": "89Mc0JxQty_o"
   },
   "outputs": [],
   "source": [
    "order_products_all = pd.concat([order_products_train, order_products_prior], axis=0)"
   ]
  },
  {
   "cell_type": "code",
   "execution_count": 11,
   "metadata": {
    "colab": {
     "base_uri": "https://localhost:8080/",
     "height": 204
    },
    "id": "X9KwD3yQt5FR",
    "outputId": "e9be2601-bc86-43b4-b91a-9de7e08773c0"
   },
   "outputs": [
    {
     "data": {
      "text/html": [
       "<div>\n",
       "<style scoped>\n",
       "    .dataframe tbody tr th:only-of-type {\n",
       "        vertical-align: middle;\n",
       "    }\n",
       "\n",
       "    .dataframe tbody tr th {\n",
       "        vertical-align: top;\n",
       "    }\n",
       "\n",
       "    .dataframe thead th {\n",
       "        text-align: right;\n",
       "    }\n",
       "</style>\n",
       "<table border=\"1\" class=\"dataframe\">\n",
       "  <thead>\n",
       "    <tr style=\"text-align: right;\">\n",
       "      <th></th>\n",
       "      <th>order_id</th>\n",
       "      <th>product_id</th>\n",
       "      <th>add_to_cart_order</th>\n",
       "      <th>reordered</th>\n",
       "    </tr>\n",
       "  </thead>\n",
       "  <tbody>\n",
       "    <tr>\n",
       "      <th>0</th>\n",
       "      <td>1</td>\n",
       "      <td>49302</td>\n",
       "      <td>1</td>\n",
       "      <td>1</td>\n",
       "    </tr>\n",
       "    <tr>\n",
       "      <th>1</th>\n",
       "      <td>1</td>\n",
       "      <td>11109</td>\n",
       "      <td>2</td>\n",
       "      <td>1</td>\n",
       "    </tr>\n",
       "    <tr>\n",
       "      <th>2</th>\n",
       "      <td>1</td>\n",
       "      <td>10246</td>\n",
       "      <td>3</td>\n",
       "      <td>0</td>\n",
       "    </tr>\n",
       "    <tr>\n",
       "      <th>3</th>\n",
       "      <td>1</td>\n",
       "      <td>49683</td>\n",
       "      <td>4</td>\n",
       "      <td>0</td>\n",
       "    </tr>\n",
       "    <tr>\n",
       "      <th>4</th>\n",
       "      <td>1</td>\n",
       "      <td>43633</td>\n",
       "      <td>5</td>\n",
       "      <td>1</td>\n",
       "    </tr>\n",
       "  </tbody>\n",
       "</table>\n",
       "</div>"
      ],
      "text/plain": [
       "   order_id  product_id  add_to_cart_order  reordered\n",
       "0         1       49302                  1          1\n",
       "1         1       11109                  2          1\n",
       "2         1       10246                  3          0\n",
       "3         1       49683                  4          0\n",
       "4         1       43633                  5          1"
      ]
     },
     "execution_count": 11,
     "metadata": {},
     "output_type": "execute_result"
    }
   ],
   "source": [
    "order_products_all.head()"
   ]
  },
  {
   "cell_type": "code",
   "execution_count": 12,
   "metadata": {
    "colab": {
     "base_uri": "https://localhost:8080/"
    },
    "id": "l_RD-1lQuFrp",
    "outputId": "70d60a5d-3397-4a63-e37e-dd4131e5a69f"
   },
   "outputs": [
    {
     "name": "stdout",
     "output_type": "stream",
     "text": [
      "For 49685 products there are 3346083 orders\n"
     ]
    }
   ],
   "source": [
    "orders_unique = len(set(order_products_all.order_id))\n",
    "products_unique = len(set(order_products_all.product_id))\n",
    "print(\"For %s products there are %s orders\" %(products_unique, orders_unique))"
   ]
  },
  {
   "cell_type": "markdown",
   "metadata": {
    "id": "WE90alwQzC0p"
   },
   "source": [
    "### Count of product orders per customer"
   ]
  },
  {
   "cell_type": "code",
   "execution_count": 13,
   "metadata": {
    "colab": {
     "base_uri": "https://localhost:8080/",
     "height": 727
    },
    "id": "kQ0a9Z8WusRg",
    "outputId": "5e3e02c4-a158-4de9-9720-d2575a7f88ba"
   },
   "outputs": [
    {
     "data": {
      "image/png": "[encoded data removed]",
      "text/plain": [
       "<Figure size 864x864 with 1 Axes>"
      ]
     },
     "metadata": {},
     "output_type": "display_data"
    }
   ],
   "source": [
    "grouped_count = order_products_all.groupby(\"order_id\")[\"add_to_cart_order\"].aggregate(\"max\").reset_index()\n",
    "grouped_count = grouped_count.add_to_cart_order.value_counts()\n",
    "\n",
    "sns.set_style('whitegrid')\n",
    "f, ax = plt.subplots(figsize=(12, 12))\n",
    "plt.xticks(rotation='vertical')\n",
    "sns.barplot(grouped_count.index, grouped_count.values)\n",
    "\n",
    "plt.ylabel('Number of Orders', fontsize=14)\n",
    "plt.xlabel('Number of products added in order', fontsize=14)\n",
    "plt.show()"
   ]
  },
  {
   "cell_type": "markdown",
   "metadata": {
    "id": "RzFIb_24_v47"
   },
   "source": [
    "Most of the people order around 4 to **6** products"
   ]
  },
  {
   "cell_type": "markdown",
   "metadata": {
    "id": "kfPynQ4vzWcH"
   },
   "source": [
    "### Most ordered products"
   ]
  },
  {
   "cell_type": "code",
   "execution_count": 14,
   "metadata": {
    "colab": {
     "base_uri": "https://localhost:8080/",
     "height": 359
    },
    "id": "y4fC0XKC-C4M",
    "outputId": "d9c13ddd-3545-4399-8ed0-2f9549aa3a51"
   },
   "outputs": [
    {
     "data": {
      "text/html": [
       "<div>\n",
       "<style scoped>\n",
       "    .dataframe tbody tr th:only-of-type {\n",
       "        vertical-align: middle;\n",
       "    }\n",
       "\n",
       "    .dataframe tbody tr th {\n",
       "        vertical-align: top;\n",
       "    }\n",
       "\n",
       "    .dataframe thead th {\n",
       "        text-align: right;\n",
       "    }\n",
       "</style>\n",
       "<table border=\"1\" class=\"dataframe\">\n",
       "  <thead>\n",
       "    <tr style=\"text-align: right;\">\n",
       "      <th></th>\n",
       "      <th>product_id</th>\n",
       "      <th>Total_reorders</th>\n",
       "      <th>product_name</th>\n",
       "    </tr>\n",
       "  </thead>\n",
       "  <tbody>\n",
       "    <tr>\n",
       "      <th>24849</th>\n",
       "      <td>24852</td>\n",
       "      <td>491291</td>\n",
       "      <td>Banana</td>\n",
       "    </tr>\n",
       "    <tr>\n",
       "      <th>13173</th>\n",
       "      <td>13176</td>\n",
       "      <td>394930</td>\n",
       "      <td>Bag of Organic Bananas</td>\n",
       "    </tr>\n",
       "    <tr>\n",
       "      <th>21134</th>\n",
       "      <td>21137</td>\n",
       "      <td>275577</td>\n",
       "      <td>Organic Strawberries</td>\n",
       "    </tr>\n",
       "    <tr>\n",
       "      <th>21900</th>\n",
       "      <td>21903</td>\n",
       "      <td>251705</td>\n",
       "      <td>Organic Baby Spinach</td>\n",
       "    </tr>\n",
       "    <tr>\n",
       "      <th>47205</th>\n",
       "      <td>47209</td>\n",
       "      <td>220877</td>\n",
       "      <td>Organic Hass Avocado</td>\n",
       "    </tr>\n",
       "    <tr>\n",
       "      <th>...</th>\n",
       "      <td>...</td>\n",
       "      <td>...</td>\n",
       "      <td>...</td>\n",
       "    </tr>\n",
       "    <tr>\n",
       "      <th>35887</th>\n",
       "      <td>35890</td>\n",
       "      <td>1</td>\n",
       "      <td>Petite Black Eyed Peas</td>\n",
       "    </tr>\n",
       "    <tr>\n",
       "      <th>13394</th>\n",
       "      <td>13397</td>\n",
       "      <td>1</td>\n",
       "      <td>Molasses, Bead</td>\n",
       "    </tr>\n",
       "    <tr>\n",
       "      <th>15385</th>\n",
       "      <td>15388</td>\n",
       "      <td>1</td>\n",
       "      <td>Orange Flavored Ice Cubes</td>\n",
       "    </tr>\n",
       "    <tr>\n",
       "      <th>35949</th>\n",
       "      <td>35952</td>\n",
       "      <td>1</td>\n",
       "      <td>Peachtree Schnapps</td>\n",
       "    </tr>\n",
       "    <tr>\n",
       "      <th>26624</th>\n",
       "      <td>26627</td>\n",
       "      <td>1</td>\n",
       "      <td>Max White With Polishing Star Soft Toothbrush</td>\n",
       "    </tr>\n",
       "  </tbody>\n",
       "</table>\n",
       "<p>49685 rows × 3 columns</p>\n",
       "</div>"
      ],
      "text/plain": [
       "       product_id  Total_reorders  \\\n",
       "24849       24852          491291   \n",
       "13173       13176          394930   \n",
       "21134       21137          275577   \n",
       "21900       21903          251705   \n",
       "47205       47209          220877   \n",
       "...           ...             ...   \n",
       "35887       35890               1   \n",
       "13394       13397               1   \n",
       "15385       15388               1   \n",
       "35949       35952               1   \n",
       "26624       26627               1   \n",
       "\n",
       "                                        product_name  \n",
       "24849                                         Banana  \n",
       "13173                         Bag of Organic Bananas  \n",
       "21134                           Organic Strawberries  \n",
       "21900                           Organic Baby Spinach  \n",
       "47205                           Organic Hass Avocado  \n",
       "...                                              ...  \n",
       "35887                         Petite Black Eyed Peas  \n",
       "13394                                 Molasses, Bead  \n",
       "15385                      Orange Flavored Ice Cubes  \n",
       "35949                             Peachtree Schnapps  \n",
       "26624  Max White With Polishing Star Soft Toothbrush  \n",
       "\n",
       "[49685 rows x 3 columns]"
      ]
     },
     "execution_count": 14,
     "metadata": {},
     "output_type": "execute_result"
    }
   ],
   "source": [
    "grouped = order_products_all.groupby(\"product_id\")[\"reordered\"].aggregate(Total_reorders = 'count').reset_index()\n",
    "grouped = pd.merge(grouped, products[['product_id', 'product_name']], how='left', on=['product_id'])\n",
    "grouped = grouped.sort_values(by='Total_reorders', ascending=False)[:]\n",
    "grouped"
   ]
  },
  {
   "cell_type": "markdown",
   "metadata": {
    "id": "mSz96x68Vr35"
   },
   "source": [
    "*   This was really unexpected! **Banana** is the most ordered product!!!\n",
    "*   Fruits are ordered much more than vegetables!\n",
    "\n",
    "\n"
   ]
  },
  {
   "cell_type": "markdown",
   "metadata": {
    "id": "SYY6ZIyIzz5W"
   },
   "source": [
    "### Are people ordering the previously ordered product?"
   ]
  },
  {
   "cell_type": "code",
   "execution_count": 15,
   "metadata": {
    "colab": {
     "base_uri": "https://localhost:8080/",
     "height": 111
    },
    "id": "0nq6L-ko-DvM",
    "outputId": "d4071f6f-9e1c-437a-906a-efda34ccc316"
   },
   "outputs": [
    {
     "data": {
      "text/html": [
       "<div>\n",
       "<style scoped>\n",
       "    .dataframe tbody tr th:only-of-type {\n",
       "        vertical-align: middle;\n",
       "    }\n",
       "\n",
       "    .dataframe tbody tr th {\n",
       "        vertical-align: top;\n",
       "    }\n",
       "\n",
       "    .dataframe thead th {\n",
       "        text-align: right;\n",
       "    }\n",
       "</style>\n",
       "<table border=\"1\" class=\"dataframe\">\n",
       "  <thead>\n",
       "    <tr style=\"text-align: right;\">\n",
       "      <th></th>\n",
       "      <th>reordered</th>\n",
       "      <th>Total_products</th>\n",
       "      <th>Ratios</th>\n",
       "    </tr>\n",
       "  </thead>\n",
       "  <tbody>\n",
       "    <tr>\n",
       "      <th>0</th>\n",
       "      <td>0</td>\n",
       "      <td>13863746</td>\n",
       "      <td>0.409938</td>\n",
       "    </tr>\n",
       "    <tr>\n",
       "      <th>1</th>\n",
       "      <td>1</td>\n",
       "      <td>19955360</td>\n",
       "      <td>0.590062</td>\n",
       "    </tr>\n",
       "  </tbody>\n",
       "</table>\n",
       "</div>"
      ],
      "text/plain": [
       "   reordered  Total_products    Ratios\n",
       "0          0        13863746  0.409938\n",
       "1          1        19955360  0.590062"
      ]
     },
     "execution_count": 15,
     "metadata": {},
     "output_type": "execute_result"
    }
   ],
   "source": [
    "grouped_prevre = order_products_all.groupby(\"reordered\")[\"product_id\"].aggregate(Total_products = 'count').reset_index()\n",
    "grouped_prevre['Ratios'] = grouped_prevre[\"Total_products\"].apply(lambda x: x /grouped_prevre['Total_products'].sum())\n",
    "grouped_prevre"
   ]
  },
  {
   "cell_type": "markdown",
   "metadata": {
    "id": "dQ3kd8w9BevR"
   },
   "source": [
    "**59%** of the products ordered are the ones that were previously ordered by the customer"
   ]
  },
  {
   "cell_type": "markdown",
   "metadata": {
    "id": "7ALkEQKuz8yN"
   },
   "source": [
    "### Products which are mostly reordered?"
   ]
  },
  {
   "cell_type": "code",
   "execution_count": 16,
   "metadata": {
    "colab": {
     "base_uri": "https://localhost:8080/",
     "height": 359
    },
    "id": "IR64Wx_Q-EI2",
    "outputId": "ac32ea27-5894-461c-c02f-239a6d09118c"
   },
   "outputs": [
    {
     "data": {
      "text/html": [
       "<div>\n",
       "<style scoped>\n",
       "    .dataframe tbody tr th:only-of-type {\n",
       "        vertical-align: middle;\n",
       "    }\n",
       "\n",
       "    .dataframe tbody tr th {\n",
       "        vertical-align: top;\n",
       "    }\n",
       "\n",
       "    .dataframe thead th {\n",
       "        text-align: right;\n",
       "    }\n",
       "</style>\n",
       "<table border=\"1\" class=\"dataframe\">\n",
       "  <thead>\n",
       "    <tr style=\"text-align: right;\">\n",
       "      <th></th>\n",
       "      <th>product_id</th>\n",
       "      <th>reorder_sum</th>\n",
       "      <th>reorder_total</th>\n",
       "      <th>reorder_probability</th>\n",
       "      <th>product_name</th>\n",
       "    </tr>\n",
       "  </thead>\n",
       "  <tbody>\n",
       "    <tr>\n",
       "      <th>2074</th>\n",
       "      <td>2075</td>\n",
       "      <td>84</td>\n",
       "      <td>90</td>\n",
       "      <td>0.933333</td>\n",
       "      <td>Serenity Ultimate Extrema Overnight Pads</td>\n",
       "    </tr>\n",
       "    <tr>\n",
       "      <th>27737</th>\n",
       "      <td>27740</td>\n",
       "      <td>94</td>\n",
       "      <td>102</td>\n",
       "      <td>0.921569</td>\n",
       "      <td>Chocolate Love Bar</td>\n",
       "    </tr>\n",
       "    <tr>\n",
       "      <th>35601</th>\n",
       "      <td>35604</td>\n",
       "      <td>93</td>\n",
       "      <td>104</td>\n",
       "      <td>0.894231</td>\n",
       "      <td>Maca Buttercups</td>\n",
       "    </tr>\n",
       "    <tr>\n",
       "      <th>38248</th>\n",
       "      <td>38251</td>\n",
       "      <td>99</td>\n",
       "      <td>111</td>\n",
       "      <td>0.891892</td>\n",
       "      <td>Benchbreak Chardonnay</td>\n",
       "    </tr>\n",
       "    <tr>\n",
       "      <th>36798</th>\n",
       "      <td>36801</td>\n",
       "      <td>88</td>\n",
       "      <td>99</td>\n",
       "      <td>0.888889</td>\n",
       "      <td>Organic Blueberry B Mega</td>\n",
       "    </tr>\n",
       "    <tr>\n",
       "      <th>10233</th>\n",
       "      <td>10236</td>\n",
       "      <td>114</td>\n",
       "      <td>131</td>\n",
       "      <td>0.870229</td>\n",
       "      <td>Fragrance Free Clay with Natural Odor Eliminat...</td>\n",
       "    </tr>\n",
       "    <tr>\n",
       "      <th>20595</th>\n",
       "      <td>20598</td>\n",
       "      <td>99</td>\n",
       "      <td>114</td>\n",
       "      <td>0.868421</td>\n",
       "      <td>Thousand Island Salad Snax</td>\n",
       "    </tr>\n",
       "    <tr>\n",
       "      <th>5455</th>\n",
       "      <td>5457</td>\n",
       "      <td>78</td>\n",
       "      <td>90</td>\n",
       "      <td>0.866667</td>\n",
       "      <td>Classic Carbonated Natural Mineral Water</td>\n",
       "    </tr>\n",
       "    <tr>\n",
       "      <th>35493</th>\n",
       "      <td>35496</td>\n",
       "      <td>394</td>\n",
       "      <td>457</td>\n",
       "      <td>0.862144</td>\n",
       "      <td>Real2 Alkalized Water 500 ml</td>\n",
       "    </tr>\n",
       "    <tr>\n",
       "      <th>9289</th>\n",
       "      <td>9292</td>\n",
       "      <td>2580</td>\n",
       "      <td>2995</td>\n",
       "      <td>0.861436</td>\n",
       "      <td>Half And Half Ultra Pasteurized</td>\n",
       "    </tr>\n",
       "  </tbody>\n",
       "</table>\n",
       "</div>"
      ],
      "text/plain": [
       "       product_id  reorder_sum  reorder_total  reorder_probability  \\\n",
       "2074         2075           84             90             0.933333   \n",
       "27737       27740           94            102             0.921569   \n",
       "35601       35604           93            104             0.894231   \n",
       "38248       38251           99            111             0.891892   \n",
       "36798       36801           88             99             0.888889   \n",
       "10233       10236          114            131             0.870229   \n",
       "20595       20598           99            114             0.868421   \n",
       "5455         5457           78             90             0.866667   \n",
       "35493       35496          394            457             0.862144   \n",
       "9289         9292         2580           2995             0.861436   \n",
       "\n",
       "                                            product_name  \n",
       "2074            Serenity Ultimate Extrema Overnight Pads  \n",
       "27737                                 Chocolate Love Bar  \n",
       "35601                                    Maca Buttercups  \n",
       "38248                              Benchbreak Chardonnay  \n",
       "36798                           Organic Blueberry B Mega  \n",
       "10233  Fragrance Free Clay with Natural Odor Eliminat...  \n",
       "20595                         Thousand Island Salad Snax  \n",
       "5455            Classic Carbonated Natural Mineral Water  \n",
       "35493                       Real2 Alkalized Water 500 ml  \n",
       "9289                     Half And Half Ultra Pasteurized  "
      ]
     },
     "execution_count": 16,
     "metadata": {},
     "output_type": "execute_result"
    }
   ],
   "source": [
    "grouped_reorder = order_products_all.groupby(\"product_id\")[\"reordered\"].aggregate(reorder_sum = 'sum',reorder_total = 'count').reset_index()\n",
    "grouped_reorder['reorder_probability'] = grouped_reorder['reorder_sum'] / grouped_reorder['reorder_total']\n",
    "grouped_reorder = pd.merge(grouped_reorder, products[['product_id', 'product_name']], how='left', on=['product_id'])\n",
    "\n",
    "grouped_reorder = grouped_reorder[grouped_reorder.reorder_total > 75].sort_values(['reorder_probability'], ascending=False)[:10]\n",
    "grouped_reorder"
   ]
  },
  {
   "cell_type": "markdown",
   "metadata": {
    "id": "B5CcqPuXWIXs"
   },
   "source": [
    "**Sanitary Pads** , **Chocolates** and some **Personal care** items tops the reorderd list"
   ]
  },
  {
   "cell_type": "markdown",
   "metadata": {
    "id": "JX8DwoISAXS0"
   },
   "source": [
    "### Which departments are most important?"
   ]
  },
  {
   "cell_type": "code",
   "execution_count": 17,
   "metadata": {
    "colab": {
     "base_uri": "https://localhost:8080/",
     "height": 204
    },
    "id": "-0g9WLmHCwll",
    "outputId": "704d270a-a148-4eaf-f41a-0115da8f0b07"
   },
   "outputs": [
    {
     "data": {
      "text/html": [
       "<div>\n",
       "<style scoped>\n",
       "    .dataframe tbody tr th:only-of-type {\n",
       "        vertical-align: middle;\n",
       "    }\n",
       "\n",
       "    .dataframe tbody tr th {\n",
       "        vertical-align: top;\n",
       "    }\n",
       "\n",
       "    .dataframe thead th {\n",
       "        text-align: right;\n",
       "    }\n",
       "</style>\n",
       "<table border=\"1\" class=\"dataframe\">\n",
       "  <thead>\n",
       "    <tr style=\"text-align: right;\">\n",
       "      <th></th>\n",
       "      <th>product_id</th>\n",
       "      <th>product_name</th>\n",
       "      <th>aisle_id</th>\n",
       "      <th>department_id</th>\n",
       "      <th>department</th>\n",
       "      <th>aisle</th>\n",
       "    </tr>\n",
       "  </thead>\n",
       "  <tbody>\n",
       "    <tr>\n",
       "      <th>0</th>\n",
       "      <td>1</td>\n",
       "      <td>Chocolate Sandwich Cookies</td>\n",
       "      <td>61</td>\n",
       "      <td>19</td>\n",
       "      <td>snacks</td>\n",
       "      <td>cookies cakes</td>\n",
       "    </tr>\n",
       "    <tr>\n",
       "      <th>1</th>\n",
       "      <td>2</td>\n",
       "      <td>All-Seasons Salt</td>\n",
       "      <td>104</td>\n",
       "      <td>13</td>\n",
       "      <td>pantry</td>\n",
       "      <td>spices seasonings</td>\n",
       "    </tr>\n",
       "    <tr>\n",
       "      <th>2</th>\n",
       "      <td>3</td>\n",
       "      <td>Robust Golden Unsweetened Oolong Tea</td>\n",
       "      <td>94</td>\n",
       "      <td>7</td>\n",
       "      <td>beverages</td>\n",
       "      <td>tea</td>\n",
       "    </tr>\n",
       "    <tr>\n",
       "      <th>3</th>\n",
       "      <td>4</td>\n",
       "      <td>Smart Ones Classic Favorites Mini Rigatoni Wit...</td>\n",
       "      <td>38</td>\n",
       "      <td>1</td>\n",
       "      <td>frozen</td>\n",
       "      <td>frozen meals</td>\n",
       "    </tr>\n",
       "    <tr>\n",
       "      <th>4</th>\n",
       "      <td>5</td>\n",
       "      <td>Green Chile Anytime Sauce</td>\n",
       "      <td>5</td>\n",
       "      <td>13</td>\n",
       "      <td>pantry</td>\n",
       "      <td>marinades meat preparation</td>\n",
       "    </tr>\n",
       "  </tbody>\n",
       "</table>\n",
       "</div>"
      ],
      "text/plain": [
       "   product_id                                       product_name  aisle_id  \\\n",
       "0           1                         Chocolate Sandwich Cookies        61   \n",
       "1           2                                   All-Seasons Salt       104   \n",
       "2           3               Robust Golden Unsweetened Oolong Tea        94   \n",
       "3           4  Smart Ones Classic Favorites Mini Rigatoni Wit...        38   \n",
       "4           5                          Green Chile Anytime Sauce         5   \n",
       "\n",
       "   department_id department                       aisle  \n",
       "0             19     snacks               cookies cakes  \n",
       "1             13     pantry           spices seasonings  \n",
       "2              7  beverages                         tea  \n",
       "3              1     frozen                frozen meals  \n",
       "4             13     pantry  marinades meat preparation  "
      ]
     },
     "execution_count": 17,
     "metadata": {},
     "output_type": "execute_result"
    }
   ],
   "source": [
    "items  = pd.merge(left =pd.merge(left=products, right=departments, how='left'), right=aisles, how='left')\n",
    "items.head()"
   ]
  },
  {
   "cell_type": "code",
   "execution_count": 18,
   "metadata": {
    "colab": {
     "base_uri": "https://localhost:8080/",
     "height": 951
    },
    "id": "9mbVydUfAasl",
    "outputId": "7b4723cf-e04a-44b3-d3aa-0f3c9e752c71"
   },
   "outputs": [
    {
     "data": {
      "image/png": "[encoded data removed]",
      "text/plain": [
       "<Figure size 864x1080 with 1 Axes>"
      ]
     },
     "metadata": {},
     "output_type": "display_data"
    }
   ],
   "source": [
    "grouped_dept = items.groupby(\"department\")[\"product_id\"].aggregate(Total_products = 'count').reset_index()\n",
    "grouped_dept['Ratio'] = grouped_dept[\"Total_products\"].apply(lambda x: x /grouped_dept['Total_products'].sum())\n",
    "\n",
    "grouped_dept  = grouped_dept.groupby(['department']).sum()['Total_products'].sort_values(ascending=False)\n",
    "\n",
    "sns.set_style(\"darkgrid\")\n",
    "f, ax = plt.subplots(figsize=(12, 15))\n",
    "plt.xticks(rotation='vertical')\n",
    "sns.barplot(grouped_dept.index, grouped_dept.values)\n",
    "plt.ylabel('Number of products', fontsize=12)\n",
    "plt.xlabel('Departments', fontsize=12)\n",
    "plt.show()"
   ]
  },
  {
   "cell_type": "markdown",
   "metadata": {
    "id": "5X-tiG_6WdVW"
   },
   "source": [
    "*   **Personal Care**, **Snacks** and **Pantry** department tops the list\n",
    "*   Daily needed stuff departments, such as **Dairy**, **Frozen Food** and **bakery** are very important\n",
    "\n"
   ]
  },
  {
   "cell_type": "markdown",
   "metadata": {
    "id": "gMIOUkWBDqLP"
   },
   "source": [
    "### Which Aisles are the most important?"
   ]
  },
  {
   "cell_type": "code",
   "execution_count": 19,
   "metadata": {
    "colab": {
     "base_uri": "https://localhost:8080/",
     "height": 981
    },
    "id": "Bw4NoBzkD479",
    "outputId": "643e1be1-b52b-4abd-fb36-f897ab53d62f"
   },
   "outputs": [
    {
     "data": {
      "image/png": "[encoded data removed]",
      "text/plain": [
       "<Figure size 864x1080 with 1 Axes>"
      ]
     },
     "metadata": {},
     "output_type": "display_data"
    }
   ],
   "source": [
    "grouped_aisles = items.groupby(\"aisle\")[\"product_id\"].aggregate(Total_products='count').reset_index()\n",
    "grouped_aisles['Ratio'] = grouped_aisles[\"Total_products\"].apply(lambda x: x /grouped_aisles['Total_products'].sum())\n",
    "grouped_aisles  = grouped_aisles.groupby(['aisle']).sum()['Total_products'].sort_values(ascending=False)[:21]\n",
    "\n",
    "f, ax = plt.subplots(figsize=(12, 15))\n",
    "plt.xticks(rotation='vertical')\n",
    "sns.barplot(grouped_aisles.index, grouped_aisles.values)\n",
    "plt.ylabel('Number of products', fontsize=13)\n",
    "plt.xlabel('Aisles', fontsize=13)\n",
    "plt.show()"
   ]
  },
  {
   "cell_type": "markdown",
   "metadata": {
    "id": "KnUsE7V-XEtT"
   },
   "source": [
    "**Chocolate and Ice-Cream** VS **Vitamin Supplement and Yougurt**\n",
    "\n",
    "\n"
   ]
  },
  {
   "cell_type": "markdown",
   "metadata": {},
   "source": [
    "### Observations:\n",
    "Below mentioned are some pointers, for details and full lists, look at the updated notebook and sorted lists of department, aisles and products\n",
    "\n",
    "Most important aisles are: Candy chocolate, Fresh Fruits, Yogurt, Vitamins Supplements, Chips, Fresh Vegetables\n",
    "\n",
    "Least important aisles are: Baby accessories, Frozen Juice, Packaged seafood, Frozen bread doughs, Fresh herbes\n",
    "\n",
    "Fruits are ordered more than vegetables\n",
    "\n",
    "Most important departments: Personal Care, Snacks and Pantry\n",
    "\n",
    "Least importnat departments: Bulk, Meat seafood, Alcohol and Babies\n",
    "\n",
    "41% of the products are not reordered, but its important to note that Sanitary pads, Chocolates and Personal care items, tops reordered list\n",
    "\n",
    "Number of orders are quite low on thursday and friday(this is important only if we can manage warehouse inventory on daily basis)"
   ]
  },
  {
   "cell_type": "code",
   "execution_count": null,
   "metadata": {},
   "outputs": [],
   "source": [
    "\n"
   ]
  }
 ],
 "metadata": {
  "colab": {
   "authorship_tag": "ABX9TyOaldLDYLPNJmkBt/sXIGvD",
   "collapsed_sections": [],
   "name": "Instacart_Market Analysis.ipynb",
   "provenance": []
  },
  "kernelspec": {
   "display_name": "Python 3",
   "language": "python",
   "name": "python3"
  },
  "language_info": {
   "codemirror_mode": {
    "name": "ipython",
    "version": 3
   },
   "file_extension": ".py",
   "mimetype": "text/x-python",
   "name": "python",
   "nbconvert_exporter": "python",
   "pygments_lexer": "ipython3",
   "version": "3.9.2"
  }
 },
 "nbformat": 4,
 "nbformat_minor": 1
}
