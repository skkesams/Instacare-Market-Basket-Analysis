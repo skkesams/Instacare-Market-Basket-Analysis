{
 "cells": [
  {
   "cell_type": "code",
   "execution_count": 5,
   "metadata": {},
   "outputs": [],
   "source": [
    "import numpy as np\n",
    "import matplotlib.pyplot as plt\n",
    "import pandas as pd\n",
    "import seaborn as sns\n",
    "from sklearn.metrics import precision_score"
   ]
  },
  {
   "cell_type": "code",
   "execution_count": 29,
   "metadata": {
    "colab": {},
    "colab_type": "code",
    "id": "SSSYZOISsC_f"
   },
   "outputs": [],
   "source": [
    "#Spliting into training and testing\n",
    "df = pd.read_csv('./dataset_dataset.csv')\n",
    "from sklearn.model_selection import train_test_split"
   ]
  },
  {
   "cell_type": "code",
   "execution_count": 30,
   "metadata": {
    "scrolled": true
   },
   "outputs": [
    {
     "data": {
      "text/html": [
       "<div>\n",
       "<style scoped>\n",
       "    .dataframe tbody tr th:only-of-type {\n",
       "        vertical-align: middle;\n",
       "    }\n",
       "\n",
       "    .dataframe tbody tr th {\n",
       "        vertical-align: top;\n",
       "    }\n",
       "\n",
       "    .dataframe thead th {\n",
       "        text-align: right;\n",
       "    }\n",
       "</style>\n",
       "<table border=\"1\" class=\"dataframe\">\n",
       "  <thead>\n",
       "    <tr style=\"text-align: right;\">\n",
       "      <th></th>\n",
       "      <th>Unnamed: 0</th>\n",
       "      <th>user_id</th>\n",
       "      <th>product_id</th>\n",
       "      <th>order_id</th>\n",
       "      <th>eval_set</th>\n",
       "      <th>reordered</th>\n",
       "      <th>#reorders_u</th>\n",
       "      <th>#purchases_u</th>\n",
       "      <th>#first_purchases_u</th>\n",
       "      <th>p(reorder|user)_u</th>\n",
       "      <th>...</th>\n",
       "      <th>p(reorder|aisle_of_prod)</th>\n",
       "      <th>#reorders_p</th>\n",
       "      <th>#purchases_p</th>\n",
       "      <th>#first_purchases_p</th>\n",
       "      <th>p(reorder|product)_p</th>\n",
       "      <th>#reorders_up</th>\n",
       "      <th>p(reorder|user,product)_up</th>\n",
       "      <th>reordered_in_last_order</th>\n",
       "      <th>reordered_in_2ndlast_order</th>\n",
       "      <th>reordered_in_3rdlast_order</th>\n",
       "    </tr>\n",
       "  </thead>\n",
       "  <tbody>\n",
       "    <tr>\n",
       "      <th>0</th>\n",
       "      <td>0</td>\n",
       "      <td>1</td>\n",
       "      <td>196</td>\n",
       "      <td>1187899</td>\n",
       "      <td>cv</td>\n",
       "      <td>1.0</td>\n",
       "      <td>0.015431</td>\n",
       "      <td>0.018313</td>\n",
       "      <td>0.023448</td>\n",
       "      <td>0.694915</td>\n",
       "      <td>...</td>\n",
       "      <td>0.638832</td>\n",
       "      <td>0.069720</td>\n",
       "      <td>0.075736</td>\n",
       "      <td>0.108160</td>\n",
       "      <td>0.776480</td>\n",
       "      <td>0.092784</td>\n",
       "      <td>1.000000</td>\n",
       "      <td>1</td>\n",
       "      <td>1</td>\n",
       "      <td>1</td>\n",
       "    </tr>\n",
       "    <tr>\n",
       "      <th>1</th>\n",
       "      <td>1</td>\n",
       "      <td>1</td>\n",
       "      <td>14084</td>\n",
       "      <td>1187899</td>\n",
       "      <td>cv</td>\n",
       "      <td>0.0</td>\n",
       "      <td>0.015431</td>\n",
       "      <td>0.018313</td>\n",
       "      <td>0.023448</td>\n",
       "      <td>0.694915</td>\n",
       "      <td>...</td>\n",
       "      <td>0.692551</td>\n",
       "      <td>0.032420</td>\n",
       "      <td>0.033718</td>\n",
       "      <td>0.040714</td>\n",
       "      <td>0.810982</td>\n",
       "      <td>0.000000</td>\n",
       "      <td>0.000000</td>\n",
       "      <td>0</td>\n",
       "      <td>0</td>\n",
       "      <td>0</td>\n",
       "    </tr>\n",
       "    <tr>\n",
       "      <th>2</th>\n",
       "      <td>2</td>\n",
       "      <td>1</td>\n",
       "      <td>12427</td>\n",
       "      <td>1187899</td>\n",
       "      <td>cv</td>\n",
       "      <td>0.0</td>\n",
       "      <td>0.015431</td>\n",
       "      <td>0.018313</td>\n",
       "      <td>0.023448</td>\n",
       "      <td>0.694915</td>\n",
       "      <td>...</td>\n",
       "      <td>0.591986</td>\n",
       "      <td>0.012034</td>\n",
       "      <td>0.013702</td>\n",
       "      <td>0.022689</td>\n",
       "      <td>0.740735</td>\n",
       "      <td>0.092784</td>\n",
       "      <td>1.000000</td>\n",
       "      <td>1</td>\n",
       "      <td>1</td>\n",
       "      <td>1</td>\n",
       "    </tr>\n",
       "    <tr>\n",
       "      <th>3</th>\n",
       "      <td>3</td>\n",
       "      <td>1</td>\n",
       "      <td>26088</td>\n",
       "      <td>1187899</td>\n",
       "      <td>cv</td>\n",
       "      <td>1.0</td>\n",
       "      <td>0.015431</td>\n",
       "      <td>0.018313</td>\n",
       "      <td>0.023448</td>\n",
       "      <td>0.694915</td>\n",
       "      <td>...</td>\n",
       "      <td>0.591986</td>\n",
       "      <td>0.003412</td>\n",
       "      <td>0.005337</td>\n",
       "      <td>0.015712</td>\n",
       "      <td>0.539041</td>\n",
       "      <td>0.010309</td>\n",
       "      <td>0.111111</td>\n",
       "      <td>0</td>\n",
       "      <td>0</td>\n",
       "      <td>0</td>\n",
       "    </tr>\n",
       "    <tr>\n",
       "      <th>4</th>\n",
       "      <td>4</td>\n",
       "      <td>1</td>\n",
       "      <td>26405</td>\n",
       "      <td>1187899</td>\n",
       "      <td>cv</td>\n",
       "      <td>1.0</td>\n",
       "      <td>0.015431</td>\n",
       "      <td>0.018313</td>\n",
       "      <td>0.023448</td>\n",
       "      <td>0.694915</td>\n",
       "      <td>...</td>\n",
       "      <td>0.528005</td>\n",
       "      <td>0.001345</td>\n",
       "      <td>0.002567</td>\n",
       "      <td>0.009154</td>\n",
       "      <td>0.441516</td>\n",
       "      <td>0.010309</td>\n",
       "      <td>0.111111</td>\n",
       "      <td>0</td>\n",
       "      <td>0</td>\n",
       "      <td>0</td>\n",
       "    </tr>\n",
       "  </tbody>\n",
       "</table>\n",
       "<p>5 rows × 42 columns</p>\n",
       "</div>"
      ],
      "text/plain": [
       "   Unnamed: 0  user_id  product_id  order_id eval_set  reordered  #reorders_u  \\\n",
       "0           0        1         196   1187899       cv        1.0     0.015431   \n",
       "1           1        1       14084   1187899       cv        0.0     0.015431   \n",
       "2           2        1       12427   1187899       cv        0.0     0.015431   \n",
       "3           3        1       26088   1187899       cv        1.0     0.015431   \n",
       "4           4        1       26405   1187899       cv        1.0     0.015431   \n",
       "\n",
       "   #purchases_u  #first_purchases_u  p(reorder|user)_u  ...  \\\n",
       "0      0.018313            0.023448           0.694915  ...   \n",
       "1      0.018313            0.023448           0.694915  ...   \n",
       "2      0.018313            0.023448           0.694915  ...   \n",
       "3      0.018313            0.023448           0.694915  ...   \n",
       "4      0.018313            0.023448           0.694915  ...   \n",
       "\n",
       "   p(reorder|aisle_of_prod)  #reorders_p  #purchases_p  #first_purchases_p  \\\n",
       "0                  0.638832     0.069720      0.075736            0.108160   \n",
       "1                  0.692551     0.032420      0.033718            0.040714   \n",
       "2                  0.591986     0.012034      0.013702            0.022689   \n",
       "3                  0.591986     0.003412      0.005337            0.015712   \n",
       "4                  0.528005     0.001345      0.002567            0.009154   \n",
       "\n",
       "   p(reorder|product)_p  #reorders_up  p(reorder|user,product)_up  \\\n",
       "0              0.776480      0.092784                    1.000000   \n",
       "1              0.810982      0.000000                    0.000000   \n",
       "2              0.740735      0.092784                    1.000000   \n",
       "3              0.539041      0.010309                    0.111111   \n",
       "4              0.441516      0.010309                    0.111111   \n",
       "\n",
       "   reordered_in_last_order  reordered_in_2ndlast_order  \\\n",
       "0                        1                           1   \n",
       "1                        0                           0   \n",
       "2                        1                           1   \n",
       "3                        0                           0   \n",
       "4                        0                           0   \n",
       "\n",
       "   reordered_in_3rdlast_order  \n",
       "0                           1  \n",
       "1                           0  \n",
       "2                           1  \n",
       "3                           0  \n",
       "4                           0  \n",
       "\n",
       "[5 rows x 42 columns]"
      ]
     },
     "execution_count": 30,
     "metadata": {},
     "output_type": "execute_result"
    }
   ],
   "source": [
    "df.head()"
   ]
  },
  {
   "cell_type": "code",
   "execution_count": 31,
   "metadata": {},
   "outputs": [
    {
     "name": "stdout",
     "output_type": "stream",
     "text": [
      "<class 'pandas.core.frame.DataFrame'>\n",
      "RangeIndex: 8474661 entries, 0 to 8474660\n",
      "Data columns (total 41 columns):\n",
      " #   Column                          Dtype  \n",
      "---  ------                          -----  \n",
      " 0   Unnamed: 0                      int64  \n",
      " 1   user_id                         int64  \n",
      " 2   product_id                      int64  \n",
      " 3   order_id                        int64  \n",
      " 4   reordered                       float64\n",
      " 5   #reorders_u                     float64\n",
      " 6   #purchases_u                    float64\n",
      " 7   #first_purchases_u              float64\n",
      " 8   p(reorder|user)_u               float64\n",
      " 9   mean_#reorders_u                float64\n",
      " 10  median_#reorders_u              float64\n",
      " 11  min_#reorders_u                 float64\n",
      " 12  max_#reorders_u                 float64\n",
      " 13  mean_#purchases_u               float64\n",
      " 14  median_#purchases_u             float64\n",
      " 15  min_#purchases_u                float64\n",
      " 16  max_#purchases_u                float64\n",
      " 17  mean_#first_purchases_u         float64\n",
      " 18  median_#first_purchases_u       float64\n",
      " 19  min_#first_purchases_u          float64\n",
      " 20  max_#first_purchases_u          float64\n",
      " 21  mean_p(reorder|user,order)_u    float64\n",
      " 22  median_p(reorder|user,order)_u  float64\n",
      " 23  min_p(reorder|user,order)_u     float64\n",
      " 24  max_p(reorder|user,order)_u     float64\n",
      " 25  dep_target_enc                  float64\n",
      " 26  aisle_target_enc                float64\n",
      " 27  eatable                         int64  \n",
      " 28  #avg_reorders_dep               float64\n",
      " 29  p(reorder|dep_of_prod)          float64\n",
      " 30  #avg_reorders_aisle             float64\n",
      " 31  p(reorder|aisle_of_prod)        float64\n",
      " 32  #reorders_p                     float64\n",
      " 33  #purchases_p                    float64\n",
      " 34  #first_purchases_p              float64\n",
      " 35  p(reorder|product)_p            float64\n",
      " 36  #reorders_up                    float64\n",
      " 37  p(reorder|user,product)_up      float64\n",
      " 38  reordered_in_last_order         int64  \n",
      " 39  reordered_in_2ndlast_order      int64  \n",
      " 40  reordered_in_3rdlast_order      int64  \n",
      "dtypes: float64(33), int64(8)\n",
      "memory usage: 2.6 GB\n"
     ]
    }
   ],
   "source": [
    "y = df['reordered']\n",
    "del df['eval_set']\n",
    "df.info()"
   ]
  },
  {
   "cell_type": "code",
   "execution_count": 32,
   "metadata": {},
   "outputs": [],
   "source": [
    "\n",
    "del df['reordered']"
   ]
  },
  {
   "cell_type": "code",
   "execution_count": 33,
   "metadata": {
    "colab": {},
    "colab_type": "code",
    "id": "is2sHTXkslHm"
   },
   "outputs": [],
   "source": [
    "Xtrain, Xtest, ytrain, ytest = train_test_split(df, y, test_size=0.30, random_state=5)"
   ]
  },
  {
   "cell_type": "code",
   "execution_count": 34,
   "metadata": {
    "colab": {
     "base_uri": "https://localhost:8080/",
     "height": 35
    },
    "colab_type": "code",
    "id": "Gl-_lG3ks3jT",
    "outputId": "961bb708-5f19-4c41-ea61-b9f0a249c335"
   },
   "outputs": [
    {
     "data": {
      "text/plain": [
       "(2542399,)"
      ]
     },
     "execution_count": 34,
     "metadata": {},
     "output_type": "execute_result"
    }
   ],
   "source": [
    "Xtrain.shape\n",
    "Xtest.shape\n",
    "ytrain.shape\n",
    "ytest.shape"
   ]
  },
  {
   "cell_type": "code",
   "execution_count": 35,
   "metadata": {
    "colab": {},
    "colab_type": "code",
    "id": "zj5aagGLtMdA"
   },
   "outputs": [],
   "source": [
    "ytrain=ytrain.ravel()\n",
    "ytest=ytest.ravel()"
   ]
  },
  {
   "cell_type": "code",
   "execution_count": 36,
   "metadata": {
    "colab": {},
    "colab_type": "code",
    "id": "Odn00Cybtarg"
   },
   "outputs": [],
   "source": [
    "from sklearn.linear_model import LogisticRegression\n",
    "from sklearn.metrics import log_loss\n",
    "from sklearn.metrics import accuracy_score\n",
    "from sklearn.metrics import precision_score\n",
    "from sklearn.metrics import recall_score\n",
    "from sklearn.metrics import roc_curve\n",
    "from matplotlib import pyplot\n",
    "from sklearn.metrics import roc_auc_score"
   ]
  },
  {
   "cell_type": "code",
   "execution_count": 37,
   "metadata": {
    "colab": {},
    "colab_type": "code",
    "id": "ydOI4JzitrjY"
   },
   "outputs": [],
   "source": [
    "#buidling logistic regression\n",
    "clf=(LogisticRegression(C=0.02))"
   ]
  },
  {
   "cell_type": "code",
   "execution_count": 38,
   "metadata": {
    "colab": {
     "base_uri": "https://localhost:8080/",
     "height": 133
    },
    "colab_type": "code",
    "id": "FPh7-hmMttu1",
    "outputId": "bf523d80-b980-4521-e139-eeddf071ce23"
   },
   "outputs": [
    {
     "data": {
      "text/plain": [
       "LogisticRegression(C=0.02)"
      ]
     },
     "execution_count": 38,
     "metadata": {},
     "output_type": "execute_result"
    }
   ],
   "source": [
    "#fitting the model\n",
    "clf.fit(Xtrain, ytrain)"
   ]
  },
  {
   "cell_type": "code",
   "execution_count": 39,
   "metadata": {
    "colab": {},
    "colab_type": "code",
    "id": "ZNKPp5oRvGBY"
   },
   "outputs": [],
   "source": [
    "train=clf.predict(Xtrain)"
   ]
  },
  {
   "cell_type": "code",
   "execution_count": 40,
   "metadata": {
    "colab": {
     "base_uri": "https://localhost:8080/",
     "height": 33
    },
    "colab_type": "code",
    "id": "_7IQVqgYg689",
    "outputId": "60afe9eb-1995-4208-e6cf-fb11c936e996"
   },
   "outputs": [
    {
     "name": "stdout",
     "output_type": "stream",
     "text": [
      "0.0\n"
     ]
    },
    {
     "name": "stderr",
     "output_type": "stream",
     "text": [
      "/Users/kesamsetty/opt/anaconda3/lib/python3.8/site-packages/sklearn/metrics/_classification.py:1245: UndefinedMetricWarning: Recall is ill-defined and being set to 0.0 due to no true samples. Use `zero_division` parameter to control this behavior.\n",
      "  _warn_prf(average, modifier, msg_start, len(result))\n"
     ]
    }
   ],
   "source": [
    "print(recall_score(train,ytrain))"
   ]
  },
  {
   "cell_type": "code",
   "execution_count": 41,
   "metadata": {
    "colab": {
     "base_uri": "https://localhost:8080/",
     "height": 33
    },
    "colab_type": "code",
    "id": "Fot1Ffk8vn94",
    "outputId": "14eb9063-484e-4d2e-cd37-0d80d31e9f20"
   },
   "outputs": [
    {
     "name": "stdout",
     "output_type": "stream",
     "text": [
      "0.9021024357993629\n"
     ]
    }
   ],
   "source": [
    "print(accuracy_score(train,ytrain))"
   ]
  },
  {
   "cell_type": "code",
   "execution_count": 42,
   "metadata": {
    "colab": {
     "base_uri": "https://localhost:8080/",
     "height": 33
    },
    "colab_type": "code",
    "id": "lDBTLcEUv4vw",
    "outputId": "b4f776e4-c4ac-43d8-e231-02fe9045ca59"
   },
   "outputs": [
    {
     "name": "stdout",
     "output_type": "stream",
     "text": [
      "0.0\n"
     ]
    }
   ],
   "source": [
    "print(precision_score(train,ytrain))"
   ]
  },
  {
   "cell_type": "code",
   "execution_count": 44,
   "metadata": {
    "colab": {},
    "colab_type": "code",
    "id": "u_4HahCvuDjI"
   },
   "outputs": [],
   "source": [
    "#On test data\n",
    "test=clf.predict(Xtest)"
   ]
  },
  {
   "cell_type": "code",
   "execution_count": 45,
   "metadata": {
    "colab": {
     "base_uri": "https://localhost:8080/",
     "height": 33
    },
    "colab_type": "code",
    "id": "WbocqXjJuM8j",
    "outputId": "f70cd1ef-f008-4004-a174-85fdd6fd68e4"
   },
   "outputs": [
    {
     "data": {
      "text/plain": [
       "array([0., 0., 0., ..., 0., 0., 0.])"
      ]
     },
     "execution_count": 45,
     "metadata": {},
     "output_type": "execute_result"
    }
   ],
   "source": [
    "test"
   ]
  },
  {
   "cell_type": "code",
   "execution_count": 46,
   "metadata": {
    "colab": {
     "base_uri": "https://localhost:8080/",
     "height": 33
    },
    "colab_type": "code",
    "id": "FGS2o65wuSL3",
    "outputId": "65d304b2-fb65-496c-eaa7-167cc08c29ca"
   },
   "outputs": [
    {
     "name": "stdout",
     "output_type": "stream",
     "text": [
      "0.9024268024019834\n"
     ]
    }
   ],
   "source": [
    "#accuracy score of Logistic Regression Model\n",
    "print(accuracy_score(clf.predict(Xtest), ytest))"
   ]
  },
  {
   "cell_type": "code",
   "execution_count": 47,
   "metadata": {
    "colab": {
     "base_uri": "https://localhost:8080/",
     "height": 33
    },
    "colab_type": "code",
    "id": "fynrET9Krj6l",
    "outputId": "e99d8cd9-a03e-4359-898f-705f49a84257"
   },
   "outputs": [
    {
     "name": "stdout",
     "output_type": "stream",
     "text": [
      "0.0\n"
     ]
    }
   ],
   "source": [
    "#print(precision_score(clf.predict(Xtest), ytest))"
   ]
  },
  {
   "cell_type": "code",
   "execution_count": 48,
   "metadata": {
    "colab": {
     "base_uri": "https://localhost:8080/",
     "height": 33
    },
    "colab_type": "code",
    "id": "KOZYQAfusPbE",
    "outputId": "1b847fd0-5a28-4edc-ea21-a82f4778cd20"
   },
   "outputs": [
    {
     "name": "stdout",
     "output_type": "stream",
     "text": [
      "0.0\n"
     ]
    },
    {
     "name": "stderr",
     "output_type": "stream",
     "text": [
      "/Users/kesamsetty/opt/anaconda3/lib/python3.8/site-packages/sklearn/metrics/_classification.py:1245: UndefinedMetricWarning: Recall is ill-defined and being set to 0.0 due to no true samples. Use `zero_division` parameter to control this behavior.\n",
      "  _warn_prf(average, modifier, msg_start, len(result))\n"
     ]
    }
   ],
   "source": [
    "#print(recall_score(clf.predict(Xtest), ytest))"
   ]
  },
  {
   "cell_type": "markdown",
   "metadata": {
    "colab_type": "text",
    "id": "Yp36BtSNub7s"
   },
   "source": [
    "# Random Forest"
   ]
  },
  {
   "cell_type": "code",
   "execution_count": 50,
   "metadata": {
    "colab": {},
    "colab_type": "code",
    "id": "TmIohz8QudZo"
   },
   "outputs": [],
   "source": [
    "from sklearn.ensemble import RandomForestClassifier"
   ]
  },
  {
   "cell_type": "code",
   "execution_count": 51,
   "metadata": {
    "colab": {},
    "colab_type": "code",
    "id": "mCzzSXqRutu9"
   },
   "outputs": [],
   "source": [
    "# Building Random Forest model\n",
    "clfrf = RandomForestClassifier(max_features=\"log2\", max_depth=11, n_estimators=24,min_samples_split=1000, \n",
    "                               oob_score=True)"
   ]
  },
  {
   "cell_type": "code",
   "execution_count": 52,
   "metadata": {
    "colab": {
     "base_uri": "https://localhost:8080/",
     "height": 220
    },
    "colab_type": "code",
    "id": "m2eQUQH5u3R3",
    "outputId": "e9f95c28-0099-4ed2-a028-bf6fcd4431b5"
   },
   "outputs": [
    {
     "name": "stderr",
     "output_type": "stream",
     "text": [
      "/Users/kesamsetty/opt/anaconda3/lib/python3.8/site-packages/sklearn/ensemble/_forest.py:541: UserWarning: Some inputs do not have OOB scores. This probably means too few trees were used to compute any reliable oob estimates.\n",
      "  warn(\"Some inputs do not have OOB scores. \"\n",
      "/Users/kesamsetty/opt/anaconda3/lib/python3.8/site-packages/sklearn/ensemble/_forest.py:545: RuntimeWarning: invalid value encountered in true_divide\n",
      "  decision = (predictions[k] /\n"
     ]
    },
    {
     "data": {
      "text/plain": [
       "RandomForestClassifier(max_depth=11, max_features='log2',\n",
       "                       min_samples_split=1000, n_estimators=24, oob_score=True)"
      ]
     },
     "execution_count": 52,
     "metadata": {},
     "output_type": "execute_result"
    }
   ],
   "source": [
    "#fitting the model\n",
    "clfrf.fit(Xtrain, ytrain)"
   ]
  },
  {
   "cell_type": "code",
   "execution_count": 53,
   "metadata": {
    "colab": {},
    "colab_type": "code",
    "id": "H07wwFyPwBwh"
   },
   "outputs": [],
   "source": [
    "train=clf.predict(Xtrain)"
   ]
  },
  {
   "cell_type": "code",
   "execution_count": 54,
   "metadata": {
    "colab": {
     "base_uri": "https://localhost:8080/",
     "height": 33
    },
    "colab_type": "code",
    "id": "aCa2CJlbwB5j",
    "outputId": "3fb22916-c8a4-4a93-fb83-0dac309dfe6d"
   },
   "outputs": [
    {
     "name": "stdout",
     "output_type": "stream",
     "text": [
      "0.9021024357993629\n"
     ]
    }
   ],
   "source": [
    "print(accuracy_score(train,ytrain))"
   ]
  },
  {
   "cell_type": "code",
   "execution_count": 55,
   "metadata": {
    "colab": {
     "base_uri": "https://localhost:8080/",
     "height": 33
    },
    "colab_type": "code",
    "id": "qOGsEQcghceS",
    "outputId": "d6b85294-d594-400c-a761-bc458a0892ba"
   },
   "outputs": [
    {
     "name": "stdout",
     "output_type": "stream",
     "text": [
      "0.0\n"
     ]
    }
   ],
   "source": [
    "print(precision_score(train, ytrain))"
   ]
  },
  {
   "cell_type": "code",
   "execution_count": 56,
   "metadata": {
    "colab": {
     "base_uri": "https://localhost:8080/",
     "height": 33
    },
    "colab_type": "code",
    "id": "hcZhGaD9wCHN",
    "outputId": "b2f0f81e-6a00-4125-b275-4bad94cefbdb"
   },
   "outputs": [
    {
     "name": "stdout",
     "output_type": "stream",
     "text": [
      "0.0\n"
     ]
    },
    {
     "name": "stderr",
     "output_type": "stream",
     "text": [
      "/Users/kesamsetty/opt/anaconda3/lib/python3.8/site-packages/sklearn/metrics/_classification.py:1245: UndefinedMetricWarning: Recall is ill-defined and being set to 0.0 due to no true samples. Use `zero_division` parameter to control this behavior.\n",
      "  _warn_prf(average, modifier, msg_start, len(result))\n"
     ]
    }
   ],
   "source": [
    "print(recall_score(train,ytrain))"
   ]
  },
  {
   "cell_type": "code",
   "execution_count": 58,
   "metadata": {
    "colab": {},
    "colab_type": "code",
    "id": "1L3SwWrhvIkb"
   },
   "outputs": [],
   "source": [
    "#testting the model\n",
    "testrf=clfrf.predict(Xtest)"
   ]
  },
  {
   "cell_type": "code",
   "execution_count": 59,
   "metadata": {
    "colab": {
     "base_uri": "https://localhost:8080/",
     "height": 33
    },
    "colab_type": "code",
    "id": "ahRHGKrnvX2N",
    "outputId": "24d94c9b-5434-40d2-938b-146b15332667"
   },
   "outputs": [
    {
     "data": {
      "text/plain": [
       "array([0., 0., 0., ..., 0., 0., 0.])"
      ]
     },
     "execution_count": 59,
     "metadata": {},
     "output_type": "execute_result"
    }
   ],
   "source": [
    "testrf"
   ]
  },
  {
   "cell_type": "code",
   "execution_count": 60,
   "metadata": {
    "colab": {
     "base_uri": "https://localhost:8080/",
     "height": 33
    },
    "colab_type": "code",
    "id": "CNZV43x7vcE6",
    "outputId": "818790cc-30b3-41d1-8bcc-12a5c550e978"
   },
   "outputs": [
    {
     "data": {
      "text/plain": [
       "0.9088451497974944"
      ]
     },
     "execution_count": 60,
     "metadata": {},
     "output_type": "execute_result"
    }
   ],
   "source": [
    "#accuracy score for the random forest model\n",
    "accuracy_score(testrf, ytest)"
   ]
  },
  {
   "cell_type": "code",
   "execution_count": 61,
   "metadata": {
    "colab": {
     "base_uri": "https://localhost:8080/",
     "height": 33
    },
    "colab_type": "code",
    "id": "hgsf0GRWiJXE",
    "outputId": "1dc76599-bae0-4f20-c57c-0f8576f3b2b9"
   },
   "outputs": [
    {
     "data": {
      "text/plain": [
       "0.6526873268957257"
      ]
     },
     "execution_count": 61,
     "metadata": {},
     "output_type": "execute_result"
    }
   ],
   "source": [
    "#Recall score for the random forest model\n",
    "recall_score(testrf, ytest)"
   ]
  },
  {
   "cell_type": "code",
   "execution_count": 62,
   "metadata": {
    "colab": {
     "base_uri": "https://localhost:8080/",
     "height": 33
    },
    "colab_type": "code",
    "id": "yIr40qn_iBLW",
    "outputId": "0c44b0bc-04b4-4bf3-af92-165faf5dcdec"
   },
   "outputs": [
    {
     "data": {
      "text/plain": [
       "0.14059338090055226"
      ]
     },
     "execution_count": 62,
     "metadata": {},
     "output_type": "execute_result"
    }
   ],
   "source": [
    "#Precision score for the random forest model\n",
    "precision_score(testrf, ytest)"
   ]
  },
  {
   "cell_type": "code",
   "execution_count": 63,
   "metadata": {
    "colab": {
     "base_uri": "https://localhost:8080/",
     "height": 33
    },
    "colab_type": "code",
    "id": "yR3uZQIuuOFm",
    "outputId": "c9044b77-4be8-4889-a8af-21e879959215"
   },
   "outputs": [
    {
     "data": {
      "text/plain": [
       "0.7835159878255255"
      ]
     },
     "execution_count": 63,
     "metadata": {},
     "output_type": "execute_result"
    }
   ],
   "source": [
    "#AUC score for the random forest model\n",
    "roc_auc_score(testrf, ytest)"
   ]
  },
  {
   "cell_type": "code",
   "execution_count": 64,
   "metadata": {
    "colab": {
     "base_uri": "https://localhost:8080/",
     "height": 421
    },
    "colab_type": "code",
    "id": "LdS2Z89QvtrH",
    "outputId": "4413e82e-35b8-47ff-fd48-f49cee562e59"
   },
   "outputs": [
    {
     "data": {
      "text/plain": [
       "<AxesSubplot:>"
      ]
     },
     "execution_count": 64,
     "metadata": {},
     "output_type": "execute_result"
    },
    {
     "data": {
      "image/png": "[encoded data removed]",
      "text/plain": [
       "<Figure size 432x288 with 1 Axes>"
      ]
     },
     "metadata": {
      "needs_background": "light"
     },
     "output_type": "display_data"
    }
   ],
   "source": [
    "feature_imp_reorder = pd.Series(clfrf.feature_importances_,index= df.columns)\n",
    "feature_imp_reorder.sort_values(ascending=False).plot(kind='bar')"
   ]
  },
  {
   "cell_type": "markdown",
   "metadata": {
    "colab_type": "text",
    "id": "PE5BCOoOv2p8"
   },
   "source": [
    "Looking at the feature importances for predicting whether a product will be reoredered or not, the most important features we observed are order_number, department, product, days since prior order and aisle"
   ]
  },
  {
   "cell_type": "code",
   "execution_count": 65,
   "metadata": {
    "colab": {},
    "colab_type": "code",
    "id": "mv29DaQZwNjP"
   },
   "outputs": [],
   "source": [
    "from sklearn.ensemble import AdaBoostClassifier"
   ]
  },
  {
   "cell_type": "code",
   "execution_count": 66,
   "metadata": {
    "colab": {},
    "colab_type": "code",
    "id": "K9mF2hANwmGZ"
   },
   "outputs": [],
   "source": [
    "#AdaBoost Classifier buiding\n",
    "clfa = AdaBoostClassifier( n_estimators=24,random_state=True)"
   ]
  },
  {
   "cell_type": "code",
   "execution_count": 67,
   "metadata": {
    "colab": {
     "base_uri": "https://localhost:8080/",
     "height": 50
    },
    "colab_type": "code",
    "id": "sDnjM7uiwvO4",
    "outputId": "ecbe1c83-31a5-42a2-f62c-74f9cc478329"
   },
   "outputs": [
    {
     "data": {
      "text/plain": [
       "AdaBoostClassifier(n_estimators=24, random_state=True)"
      ]
     },
     "execution_count": 67,
     "metadata": {},
     "output_type": "execute_result"
    }
   ],
   "source": [
    "#fitting\n",
    "clfa.fit(Xtrain, ytrain)"
   ]
  },
  {
   "cell_type": "code",
   "execution_count": 68,
   "metadata": {
    "colab": {},
    "colab_type": "code",
    "id": "DiLp0wxOinON"
   },
   "outputs": [],
   "source": [
    "train = clfa.predict(Xtrain)"
   ]
  },
  {
   "cell_type": "code",
   "execution_count": 69,
   "metadata": {
    "colab": {
     "base_uri": "https://localhost:8080/",
     "height": 83
    },
    "colab_type": "code",
    "id": "XNhoifjIinVf",
    "outputId": "f185927e-6ec9-47da-9abb-64c13f2bc354"
   },
   "outputs": [
    {
     "name": "stdout",
     "output_type": "stream",
     "text": [
      "0.9071234547631241\n",
      "0.2005410208108769\n",
      "0.5733125270743906\n",
      "0.7835159878255255\n"
     ]
    }
   ],
   "source": [
    "#Metrics for the random forest model\n",
    "print(accuracy_score(train,ytrain))\n",
    "print(precision_score(train, ytrain))\n",
    "print(recall_score(train,ytrain))\n",
    "print(roc_auc_score(testrf, ytest))\n"
   ]
  },
  {
   "cell_type": "code",
   "execution_count": 70,
   "metadata": {
    "colab": {},
    "colab_type": "code",
    "id": "8LQnpxq2w28i"
   },
   "outputs": [],
   "source": [
    "#testing\n",
    "testada = clfa.predict(Xtest)"
   ]
  },
  {
   "cell_type": "code",
   "execution_count": 71,
   "metadata": {
    "colab": {
     "base_uri": "https://localhost:8080/",
     "height": 83
    },
    "colab_type": "code",
    "id": "HQ8uS50DxFQ9",
    "outputId": "72c64d57-4189-4b6c-d89f-335fbb5e7e91"
   },
   "outputs": [
    {
     "name": "stdout",
     "output_type": "stream",
     "text": [
      "0.907144393936593\n",
      "0.1991454025073568\n",
      "0.569081903006566\n",
      "0.7440887422777164\n"
     ]
    }
   ],
   "source": [
    "#Metrics for AdaBoost Classifier\n",
    "\n",
    "print(accuracy_score(testada, ytest))\n",
    "print(precision_score(testada, ytest))\n",
    "print(recall_score(testada, ytest))\n",
    "print(roc_auc_score(testada, ytest))"
   ]
  },
  {
   "cell_type": "code",
   "execution_count": 72,
   "metadata": {
    "colab": {},
    "colab_type": "code",
    "id": "1-XKnjZ6xU3d"
   },
   "outputs": [],
   "source": [
    "from sklearn.ensemble import GradientBoostingClassifier"
   ]
  },
  {
   "cell_type": "code",
   "execution_count": 73,
   "metadata": {
    "colab": {},
    "colab_type": "code",
    "id": "iJXVykwTxZm5"
   },
   "outputs": [],
   "source": [
    "clfg= GradientBoostingClassifier(max_features=\"log2\", max_depth=11, n_estimators=24,min_samples_split=1000)"
   ]
  },
  {
   "cell_type": "code",
   "execution_count": 74,
   "metadata": {
    "colab": {
     "base_uri": "https://localhost:8080/",
     "height": 183
    },
    "colab_type": "code",
    "id": "fP_UtH1_xcoL",
    "outputId": "dcfc6a14-a50d-4811-d6ed-ae926042f4e6"
   },
   "outputs": [
    {
     "data": {
      "text/plain": [
       "GradientBoostingClassifier(max_depth=11, max_features='log2',\n",
       "                           min_samples_split=1000, n_estimators=24)"
      ]
     },
     "execution_count": 74,
     "metadata": {},
     "output_type": "execute_result"
    }
   ],
   "source": [
    "#fitting\n",
    "clfg.fit(Xtrain, ytrain)"
   ]
  },
  {
   "cell_type": "code",
   "execution_count": 75,
   "metadata": {
    "colab": {},
    "colab_type": "code",
    "id": "RzOk88PLjuLy"
   },
   "outputs": [],
   "source": [
    "traing = clfg.predict(Xtrain)"
   ]
  },
  {
   "cell_type": "code",
   "execution_count": 76,
   "metadata": {
    "colab": {
     "base_uri": "https://localhost:8080/",
     "height": 83
    },
    "colab_type": "code",
    "id": "4IlIYUU3j0E9",
    "outputId": "2598ddf4-53ed-4d33-be06-515febae8d62"
   },
   "outputs": [
    {
     "name": "stdout",
     "output_type": "stream",
     "text": [
      "0.9098124796241299\n",
      "0.15065414960551282\n",
      "0.6769389081455806\n",
      "0.7959690396329837\n"
     ]
    }
   ],
   "source": [
    "#Metrics for Gradient Boosting Model on training Data\n",
    "\n",
    "print(accuracy_score(traing,ytrain))\n",
    "print(precision_score(traing,ytrain))\n",
    "print(recall_score(traing,ytrain))\n",
    "print(roc_auc_score(traing,ytrain))"
   ]
  },
  {
   "cell_type": "code",
   "execution_count": 77,
   "metadata": {
    "colab": {},
    "colab_type": "code",
    "id": "PAYKzXxFkQf4"
   },
   "outputs": [],
   "source": [
    "testg = clfg.predict(Xtest)"
   ]
  },
  {
   "cell_type": "code",
   "execution_count": 78,
   "metadata": {
    "colab": {
     "base_uri": "https://localhost:8080/",
     "height": 83
    },
    "colab_type": "code",
    "id": "f3co-EyxkTF1",
    "outputId": "b26b2365-6cc8-43fe-ef92-5d49b122faf9"
   },
   "outputs": [
    {
     "name": "stdout",
     "output_type": "stream",
     "text": [
      "0.9090378811508343\n",
      "0.14466078123110412\n",
      "0.652900080052398\n",
      "0.7837988752721451\n"
     ]
    }
   ],
   "source": [
    "#Metrics for Gradient Boosting Model on Test Data\n",
    "\n",
    "print(accuracy_score(testg, ytest))\n",
    "print(precision_score(testg, ytest))\n",
    "print(recall_score(testg, ytest))\n",
    "print(roc_auc_score(testg, ytest))"
   ]
  },
  {
   "cell_type": "code",
   "execution_count": null,
   "metadata": {},
   "outputs": [],
   "source": []
  }
 ],
 "metadata": {
  "accelerator": "GPU",
  "colab": {
   "collapsed_sections": [],
   "include_colab_link": true,
   "machine_shape": "hm",
   "name": "Instacart market basket analysis.ipynb",
   "provenance": []
  },
  "kernelspec": {
   "display_name": "Python 3",
   "language": "python",
   "name": "python3"
  },
  "language_info": {
   "codemirror_mode": {
    "name": "ipython",
    "version": 3
   },
   "file_extension": ".py",
   "mimetype": "text/x-python",
   "name": "python",
   "nbconvert_exporter": "python",
   "pygments_lexer": "ipython3",
   "version": "3.9.2"
  }
 },
 "nbformat": 4,
 "nbformat_minor": 1
}
