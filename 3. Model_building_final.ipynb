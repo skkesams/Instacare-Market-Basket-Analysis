{
 "cells": [
  {
   "cell_type": "markdown",
   "metadata": {},
   "source": [
    "### In this notebook I tried building models on the data that is obtained after feature engineering. \n",
    "\n",
    "The two problems that are addressed are: \n",
    "* predict whether a product will be reordered or not\n",
    "* Predict which department a product will belong to\n",
    "\n",
    "The features which would be used for -\n",
    "\n",
    "- predicting whether a product will be reordered or not : \n",
    "\n",
    "Order_id, Order_number, Average_days_between_orders, Nb_orders(Number of orders), Average_basket, Total items, Aisle, Department, Product, User_id, Order_hour_of_day, Order_dow(day of week), Days_since_prior_order, Days_since_ratio\n",
    "\n",
    "- Predicting which department a product will belong to : \n",
    "\n",
    "Order_id, Order_number, Average_days_between_orders, Nb_orders(Number of orders), Average_basket, Orders, Reorders, Reordered rate, Total items, User_id, Order_hour_of_day, Order_dow(day of week), Days_since_prior_order, Days_since_ratio"
   ]
  },
  {
   "cell_type": "code",
   "execution_count": 63,
   "metadata": {},
   "outputs": [],
   "source": [
    "import numpy as np\n",
    "import matplotlib.pyplot as plt\n",
    "import pandas as pd\n",
    "import seaborn as sns\n",
    "from sklearn.metrics import precision_score"
   ]
  },
  {
   "cell_type": "code",
   "execution_count": 8,
   "metadata": {
    "colab": {},
    "colab_type": "code",
    "id": "SSSYZOISsC_f"
   },
   "outputs": [],
   "source": [
    "#Spliting into training and testing\n",
    "df = pd.read_pickle('./feature_dataset.pkl')\n",
    "from sklearn.model_selection import train_test_split"
   ]
  },
  {
   "cell_type": "code",
   "execution_count": 9,
   "metadata": {
    "scrolled": true
   },
   "outputs": [
    {
     "data": {
      "text/html": [
       "<div>\n",
       "<style scoped>\n",
       "    .dataframe tbody tr th:only-of-type {\n",
       "        vertical-align: middle;\n",
       "    }\n",
       "\n",
       "    .dataframe tbody tr th {\n",
       "        vertical-align: top;\n",
       "    }\n",
       "\n",
       "    .dataframe thead th {\n",
       "        text-align: right;\n",
       "    }\n",
       "</style>\n",
       "<table border=\"1\" class=\"dataframe\">\n",
       "  <thead>\n",
       "    <tr style=\"text-align: right;\">\n",
       "      <th></th>\n",
       "      <th>order_id</th>\n",
       "      <th>reordered</th>\n",
       "      <th>order_number</th>\n",
       "      <th>avg_days_btwn_orders</th>\n",
       "      <th>nb_orders</th>\n",
       "      <th>total_items</th>\n",
       "      <th>average_basket</th>\n",
       "      <th>days_since_ratio</th>\n",
       "      <th>aisle_new</th>\n",
       "      <th>dept_new</th>\n",
       "      <th>product_new</th>\n",
       "      <th>order_hour_of_day_new</th>\n",
       "      <th>order_dow_new</th>\n",
       "      <th>days_since_prior_order__new</th>\n",
       "    </tr>\n",
       "  </thead>\n",
       "  <tbody>\n",
       "    <tr>\n",
       "      <th>0</th>\n",
       "      <td>1</td>\n",
       "      <td>1.0</td>\n",
       "      <td>4</td>\n",
       "      <td>1.000000</td>\n",
       "      <td>0.0</td>\n",
       "      <td>0.0</td>\n",
       "      <td>0.000000</td>\n",
       "      <td>9.000000</td>\n",
       "      <td>0.0</td>\n",
       "      <td>0.0</td>\n",
       "      <td>0.0</td>\n",
       "      <td>0.0</td>\n",
       "      <td>0.0</td>\n",
       "      <td>0.0</td>\n",
       "    </tr>\n",
       "    <tr>\n",
       "      <th>1</th>\n",
       "      <td>1</td>\n",
       "      <td>1.0</td>\n",
       "      <td>4</td>\n",
       "      <td>19.000000</td>\n",
       "      <td>10.0</td>\n",
       "      <td>11.0</td>\n",
       "      <td>1.100000</td>\n",
       "      <td>0.473684</td>\n",
       "      <td>1.0</td>\n",
       "      <td>0.0</td>\n",
       "      <td>1.0</td>\n",
       "      <td>0.0</td>\n",
       "      <td>0.0</td>\n",
       "      <td>0.0</td>\n",
       "    </tr>\n",
       "    <tr>\n",
       "      <th>2</th>\n",
       "      <td>1</td>\n",
       "      <td>0.0</td>\n",
       "      <td>4</td>\n",
       "      <td>16.285715</td>\n",
       "      <td>14.0</td>\n",
       "      <td>31.0</td>\n",
       "      <td>2.214286</td>\n",
       "      <td>0.552632</td>\n",
       "      <td>2.0</td>\n",
       "      <td>1.0</td>\n",
       "      <td>2.0</td>\n",
       "      <td>0.0</td>\n",
       "      <td>0.0</td>\n",
       "      <td>0.0</td>\n",
       "    </tr>\n",
       "    <tr>\n",
       "      <th>3</th>\n",
       "      <td>1</td>\n",
       "      <td>0.0</td>\n",
       "      <td>4</td>\n",
       "      <td>12.000000</td>\n",
       "      <td>12.0</td>\n",
       "      <td>0.0</td>\n",
       "      <td>0.000000</td>\n",
       "      <td>0.750000</td>\n",
       "      <td>2.0</td>\n",
       "      <td>1.0</td>\n",
       "      <td>3.0</td>\n",
       "      <td>0.0</td>\n",
       "      <td>0.0</td>\n",
       "      <td>0.0</td>\n",
       "    </tr>\n",
       "    <tr>\n",
       "      <th>4</th>\n",
       "      <td>1</td>\n",
       "      <td>1.0</td>\n",
       "      <td>4</td>\n",
       "      <td>17.000000</td>\n",
       "      <td>5.0</td>\n",
       "      <td>0.0</td>\n",
       "      <td>0.000000</td>\n",
       "      <td>0.529412</td>\n",
       "      <td>3.0</td>\n",
       "      <td>2.0</td>\n",
       "      <td>4.0</td>\n",
       "      <td>0.0</td>\n",
       "      <td>0.0</td>\n",
       "      <td>0.0</td>\n",
       "    </tr>\n",
       "  </tbody>\n",
       "</table>\n",
       "</div>"
      ],
      "text/plain": [
       "   order_id  reordered  order_number  avg_days_btwn_orders  nb_orders  \\\n",
       "0         1        1.0             4              1.000000        0.0   \n",
       "1         1        1.0             4             19.000000       10.0   \n",
       "2         1        0.0             4             16.285715       14.0   \n",
       "3         1        0.0             4             12.000000       12.0   \n",
       "4         1        1.0             4             17.000000        5.0   \n",
       "\n",
       "   total_items  average_basket  days_since_ratio  aisle_new  dept_new  \\\n",
       "0          0.0        0.000000          9.000000        0.0       0.0   \n",
       "1         11.0        1.100000          0.473684        1.0       0.0   \n",
       "2         31.0        2.214286          0.552632        2.0       1.0   \n",
       "3          0.0        0.000000          0.750000        2.0       1.0   \n",
       "4          0.0        0.000000          0.529412        3.0       2.0   \n",
       "\n",
       "   product_new  order_hour_of_day_new  order_dow_new  \\\n",
       "0          0.0                    0.0            0.0   \n",
       "1          1.0                    0.0            0.0   \n",
       "2          2.0                    0.0            0.0   \n",
       "3          3.0                    0.0            0.0   \n",
       "4          4.0                    0.0            0.0   \n",
       "\n",
       "   days_since_prior_order__new  \n",
       "0                          0.0  \n",
       "1                          0.0  \n",
       "2                          0.0  \n",
       "3                          0.0  \n",
       "4                          0.0  "
      ]
     },
     "execution_count": 9,
     "metadata": {},
     "output_type": "execute_result"
    }
   ],
   "source": [
    "df.head()"
   ]
  },
  {
   "cell_type": "code",
   "execution_count": 10,
   "metadata": {},
   "outputs": [],
   "source": [
    "y = df['reordered']\n",
    "del df['reordered']"
   ]
  },
  {
   "cell_type": "code",
   "execution_count": 11,
   "metadata": {
    "colab": {},
    "colab_type": "code",
    "id": "is2sHTXkslHm"
   },
   "outputs": [],
   "source": [
    "Xtrain, Xtest, ytrain, ytest = train_test_split(df, y, test_size=0.30, random_state=5)"
   ]
  },
  {
   "cell_type": "code",
   "execution_count": 12,
   "metadata": {
    "colab": {
     "base_uri": "https://localhost:8080/",
     "height": 35
    },
    "colab_type": "code",
    "id": "Gl-_lG3ks3jT",
    "outputId": "961bb708-5f19-4c41-ea61-b9f0a249c335"
   },
   "outputs": [
    {
     "data": {
      "text/plain": [
       "(415386,)"
      ]
     },
     "execution_count": 12,
     "metadata": {},
     "output_type": "execute_result"
    }
   ],
   "source": [
    "Xtrain.shape\n",
    "Xtest.shape\n",
    "ytrain.shape\n",
    "ytest.shape"
   ]
  },
  {
   "cell_type": "code",
   "execution_count": null,
   "metadata": {
    "colab": {},
    "colab_type": "code",
    "id": "zj5aagGLtMdA"
   },
   "outputs": [],
   "source": [
    "ytrain=ytrain.ravel()\n",
    "ytest=ytest.ravel()"
   ]
  },
  {
   "cell_type": "markdown",
   "metadata": {},
   "source": [
    "------"
   ]
  },
  {
   "cell_type": "markdown",
   "metadata": {},
   "source": [
    "# Problem 1"
   ]
  },
  {
   "cell_type": "markdown",
   "metadata": {},
   "source": [
    "## Logistic Regression "
   ]
  },
  {
   "cell_type": "code",
   "execution_count": 14,
   "metadata": {
    "colab": {},
    "colab_type": "code",
    "id": "Odn00Cybtarg"
   },
   "outputs": [],
   "source": [
    "from sklearn.linear_model import LogisticRegression\n",
    "from sklearn.metrics import log_loss\n",
    "from sklearn.metrics import accuracy_score\n",
    "from sklearn.metrics import precision_score\n",
    "from sklearn.metrics import recall_score\n",
    "from sklearn.metrics import roc_curve\n",
    "from matplotlib import pyplot\n",
    "from sklearn.metrics import roc_auc_score"
   ]
  },
  {
   "cell_type": "code",
   "execution_count": 15,
   "metadata": {
    "colab": {},
    "colab_type": "code",
    "id": "ydOI4JzitrjY"
   },
   "outputs": [],
   "source": [
    "#buidling logistic regression\n",
    "clf=(LogisticRegression(C=0.02))"
   ]
  },
  {
   "cell_type": "code",
   "execution_count": 16,
   "metadata": {
    "colab": {
     "base_uri": "https://localhost:8080/",
     "height": 133
    },
    "colab_type": "code",
    "id": "FPh7-hmMttu1",
    "outputId": "bf523d80-b980-4521-e139-eeddf071ce23"
   },
   "outputs": [
    {
     "data": {
      "text/plain": [
       "LogisticRegression(C=0.02)"
      ]
     },
     "execution_count": 16,
     "metadata": {},
     "output_type": "execute_result"
    }
   ],
   "source": [
    "#fitting the model\n",
    "clf.fit(Xtrain, ytrain)"
   ]
  },
  {
   "cell_type": "code",
   "execution_count": 17,
   "metadata": {
    "colab": {},
    "colab_type": "code",
    "id": "ZNKPp5oRvGBY"
   },
   "outputs": [],
   "source": [
    "train=clf.predict(Xtrain)"
   ]
  },
  {
   "cell_type": "code",
   "execution_count": 18,
   "metadata": {
    "colab": {
     "base_uri": "https://localhost:8080/",
     "height": 33
    },
    "colab_type": "code",
    "id": "_7IQVqgYg689",
    "outputId": "60afe9eb-1995-4208-e6cf-fb11c936e996"
   },
   "outputs": [
    {
     "name": "stdout",
     "output_type": "stream",
     "text": [
      "0.6184014545816833\n"
     ]
    }
   ],
   "source": [
    "print(recall_score(train,ytrain))"
   ]
  },
  {
   "cell_type": "code",
   "execution_count": 19,
   "metadata": {
    "colab": {
     "base_uri": "https://localhost:8080/",
     "height": 33
    },
    "colab_type": "code",
    "id": "Fot1Ffk8vn94",
    "outputId": "14eb9063-484e-4d2e-cd37-0d80d31e9f20"
   },
   "outputs": [
    {
     "name": "stdout",
     "output_type": "stream",
     "text": [
      "0.5976284291360883\n"
     ]
    }
   ],
   "source": [
    "print(accuracy_score(train,ytrain))"
   ]
  },
  {
   "cell_type": "code",
   "execution_count": 20,
   "metadata": {
    "colab": {
     "base_uri": "https://localhost:8080/",
     "height": 33
    },
    "colab_type": "code",
    "id": "lDBTLcEUv4vw",
    "outputId": "b4f776e4-c4ac-43d8-e231-02fe9045ca59"
   },
   "outputs": [
    {
     "name": "stdout",
     "output_type": "stream",
     "text": [
      "0.8559396972104961\n"
     ]
    }
   ],
   "source": [
    "print(precision_score(train,ytrain))"
   ]
  },
  {
   "cell_type": "code",
   "execution_count": 21,
   "metadata": {
    "colab": {
     "base_uri": "https://localhost:8080/",
     "height": 33
    },
    "colab_type": "code",
    "id": "PzLcEZIcv448",
    "outputId": "19159810-1b1c-40ce-ca8c-7462ff7b1197"
   },
   "outputs": [
    {
     "name": "stdout",
     "output_type": "stream",
     "text": [
      "0.5578488557231518\n"
     ]
    }
   ],
   "source": [
    "print(roc_auc_score(train,ytrain))"
   ]
  },
  {
   "cell_type": "code",
   "execution_count": 22,
   "metadata": {
    "colab": {},
    "colab_type": "code",
    "id": "u_4HahCvuDjI"
   },
   "outputs": [],
   "source": [
    "#On test data\n",
    "test=clf.predict(Xtest)"
   ]
  },
  {
   "cell_type": "code",
   "execution_count": 23,
   "metadata": {
    "colab": {
     "base_uri": "https://localhost:8080/",
     "height": 33
    },
    "colab_type": "code",
    "id": "WbocqXjJuM8j",
    "outputId": "f70cd1ef-f008-4004-a174-85fdd6fd68e4"
   },
   "outputs": [
    {
     "data": {
      "text/plain": [
       "array([1., 1., 1., ..., 1., 0., 1.])"
      ]
     },
     "execution_count": 23,
     "metadata": {},
     "output_type": "execute_result"
    }
   ],
   "source": [
    "test"
   ]
  },
  {
   "cell_type": "code",
   "execution_count": 24,
   "metadata": {
    "colab": {
     "base_uri": "https://localhost:8080/",
     "height": 33
    },
    "colab_type": "code",
    "id": "FGS2o65wuSL3",
    "outputId": "65d304b2-fb65-496c-eaa7-167cc08c29ca"
   },
   "outputs": [
    {
     "name": "stdout",
     "output_type": "stream",
     "text": [
      "0.59711930589861\n"
     ]
    }
   ],
   "source": [
    "#accuracy score of Logistic Regression Model\n",
    "print(accuracy_score(clf.predict(Xtest), ytest))"
   ]
  },
  {
   "cell_type": "code",
   "execution_count": 25,
   "metadata": {
    "colab": {
     "base_uri": "https://localhost:8080/",
     "height": 33
    },
    "colab_type": "code",
    "id": "fynrET9Krj6l",
    "outputId": "e99d8cd9-a03e-4359-898f-705f49a84257"
   },
   "outputs": [
    {
     "name": "stdout",
     "output_type": "stream",
     "text": [
      "0.8565414078050546\n"
     ]
    }
   ],
   "source": [
    "print(precision_score(clf.predict(Xtest), ytest))"
   ]
  },
  {
   "cell_type": "code",
   "execution_count": 26,
   "metadata": {
    "colab": {
     "base_uri": "https://localhost:8080/",
     "height": 33
    },
    "colab_type": "code",
    "id": "KOZYQAfusPbE",
    "outputId": "1b847fd0-5a28-4edc-ea21-a82f4778cd20"
   },
   "outputs": [
    {
     "name": "stdout",
     "output_type": "stream",
     "text": [
      "0.6179834282995439\n"
     ]
    }
   ],
   "source": [
    "print(recall_score(clf.predict(Xtest), ytest))"
   ]
  },
  {
   "cell_type": "code",
   "execution_count": 27,
   "metadata": {
    "colab": {
     "base_uri": "https://localhost:8080/",
     "height": 33
    },
    "colab_type": "code",
    "id": "-AlbJxF2rSWT",
    "outputId": "c8629835-1bae-4192-ce4f-bf173aac98b5"
   },
   "outputs": [
    {
     "name": "stdout",
     "output_type": "stream",
     "text": [
      "0.5566933350374415\n"
     ]
    }
   ],
   "source": [
    "print(roc_auc_score(clf.predict(Xtest), ytest))"
   ]
  },
  {
   "cell_type": "markdown",
   "metadata": {
    "colab_type": "text",
    "id": "Yp36BtSNub7s"
   },
   "source": [
    "# Random Forest"
   ]
  },
  {
   "cell_type": "code",
   "execution_count": 28,
   "metadata": {
    "colab": {},
    "colab_type": "code",
    "id": "TmIohz8QudZo"
   },
   "outputs": [],
   "source": [
    "from sklearn.ensemble import RandomForestClassifier"
   ]
  },
  {
   "cell_type": "code",
   "execution_count": 29,
   "metadata": {
    "colab": {},
    "colab_type": "code",
    "id": "mCzzSXqRutu9"
   },
   "outputs": [],
   "source": [
    "# Building Random Forest model\n",
    "clfrf = RandomForestClassifier(max_features=\"log2\", max_depth=11, n_estimators=24,min_samples_split=1000, \n",
    "                               oob_score=True)"
   ]
  },
  {
   "cell_type": "code",
   "execution_count": 30,
   "metadata": {
    "colab": {
     "base_uri": "https://localhost:8080/",
     "height": 220
    },
    "colab_type": "code",
    "id": "m2eQUQH5u3R3",
    "outputId": "e9f95c28-0099-4ed2-a028-bf6fcd4431b5"
   },
   "outputs": [
    {
     "name": "stderr",
     "output_type": "stream",
     "text": [
      "/Users/kesamsetty/opt/anaconda3/lib/python3.8/site-packages/sklearn/ensemble/_forest.py:541: UserWarning: Some inputs do not have OOB scores. This probably means too few trees were used to compute any reliable oob estimates.\n",
      "  warn(\"Some inputs do not have OOB scores. \"\n",
      "/Users/kesamsetty/opt/anaconda3/lib/python3.8/site-packages/sklearn/ensemble/_forest.py:545: RuntimeWarning: invalid value encountered in true_divide\n",
      "  decision = (predictions[k] /\n"
     ]
    },
    {
     "data": {
      "text/plain": [
       "RandomForestClassifier(max_depth=11, max_features='log2',\n",
       "                       min_samples_split=1000, n_estimators=24, oob_score=True)"
      ]
     },
     "execution_count": 30,
     "metadata": {},
     "output_type": "execute_result"
    }
   ],
   "source": [
    "#fitting the model\n",
    "clfrf.fit(Xtrain, ytrain)"
   ]
  },
  {
   "cell_type": "code",
   "execution_count": 31,
   "metadata": {
    "colab": {},
    "colab_type": "code",
    "id": "H07wwFyPwBwh"
   },
   "outputs": [],
   "source": [
    "train=clf.predict(Xtrain)"
   ]
  },
  {
   "cell_type": "code",
   "execution_count": 32,
   "metadata": {
    "colab": {
     "base_uri": "https://localhost:8080/",
     "height": 33
    },
    "colab_type": "code",
    "id": "aCa2CJlbwB5j",
    "outputId": "3fb22916-c8a4-4a93-fb83-0dac309dfe6d"
   },
   "outputs": [
    {
     "name": "stdout",
     "output_type": "stream",
     "text": [
      "0.5976284291360883\n"
     ]
    }
   ],
   "source": [
    "print(accuracy_score(train,ytrain))"
   ]
  },
  {
   "cell_type": "code",
   "execution_count": 33,
   "metadata": {
    "colab": {
     "base_uri": "https://localhost:8080/",
     "height": 33
    },
    "colab_type": "code",
    "id": "qOGsEQcghceS",
    "outputId": "d6b85294-d594-400c-a761-bc458a0892ba"
   },
   "outputs": [
    {
     "name": "stdout",
     "output_type": "stream",
     "text": [
      "0.8559396972104961\n"
     ]
    }
   ],
   "source": [
    "print(precision_score(train, ytrain))"
   ]
  },
  {
   "cell_type": "code",
   "execution_count": 34,
   "metadata": {
    "colab": {
     "base_uri": "https://localhost:8080/",
     "height": 33
    },
    "colab_type": "code",
    "id": "hcZhGaD9wCHN",
    "outputId": "b2f0f81e-6a00-4125-b275-4bad94cefbdb"
   },
   "outputs": [
    {
     "name": "stdout",
     "output_type": "stream",
     "text": [
      "0.6184014545816833\n"
     ]
    }
   ],
   "source": [
    "print(recall_score(train,ytrain))"
   ]
  },
  {
   "cell_type": "code",
   "execution_count": 35,
   "metadata": {
    "colab": {
     "base_uri": "https://localhost:8080/",
     "height": 33
    },
    "colab_type": "code",
    "id": "mDRi9UXIwCS-",
    "outputId": "d905256b-aeab-4c93-fac7-41b41b6e1759"
   },
   "outputs": [
    {
     "name": "stdout",
     "output_type": "stream",
     "text": [
      "0.5578488557231518\n"
     ]
    }
   ],
   "source": [
    "print(roc_auc_score(train,ytrain))"
   ]
  },
  {
   "cell_type": "code",
   "execution_count": 36,
   "metadata": {
    "colab": {},
    "colab_type": "code",
    "id": "1L3SwWrhvIkb"
   },
   "outputs": [],
   "source": [
    "#testting the model\n",
    "testrf=clfrf.predict(Xtest)"
   ]
  },
  {
   "cell_type": "code",
   "execution_count": 37,
   "metadata": {
    "colab": {
     "base_uri": "https://localhost:8080/",
     "height": 33
    },
    "colab_type": "code",
    "id": "ahRHGKrnvX2N",
    "outputId": "24d94c9b-5434-40d2-938b-146b15332667"
   },
   "outputs": [
    {
     "data": {
      "text/plain": [
       "array([1., 0., 1., ..., 1., 0., 1.])"
      ]
     },
     "execution_count": 37,
     "metadata": {},
     "output_type": "execute_result"
    }
   ],
   "source": [
    "testrf"
   ]
  },
  {
   "cell_type": "code",
   "execution_count": 38,
   "metadata": {
    "colab": {
     "base_uri": "https://localhost:8080/",
     "height": 33
    },
    "colab_type": "code",
    "id": "CNZV43x7vcE6",
    "outputId": "818790cc-30b3-41d1-8bcc-12a5c550e978"
   },
   "outputs": [
    {
     "data": {
      "text/plain": [
       "0.6640835271289837"
      ]
     },
     "execution_count": 38,
     "metadata": {},
     "output_type": "execute_result"
    }
   ],
   "source": [
    "#accuracy score for the random forest model\n",
    "accuracy_score(testrf, ytest)"
   ]
  },
  {
   "cell_type": "code",
   "execution_count": 39,
   "metadata": {
    "colab": {
     "base_uri": "https://localhost:8080/",
     "height": 33
    },
    "colab_type": "code",
    "id": "hgsf0GRWiJXE",
    "outputId": "1dc76599-bae0-4f20-c57c-0f8576f3b2b9"
   },
   "outputs": [
    {
     "data": {
      "text/plain": [
       "0.6816176030137041"
      ]
     },
     "execution_count": 39,
     "metadata": {},
     "output_type": "execute_result"
    }
   ],
   "source": [
    "#Recall score for the random forest model\n",
    "recall_score(testrf, ytest)"
   ]
  },
  {
   "cell_type": "code",
   "execution_count": 40,
   "metadata": {
    "colab": {
     "base_uri": "https://localhost:8080/",
     "height": 33
    },
    "colab_type": "code",
    "id": "yIr40qn_iBLW",
    "outputId": "0c44b0bc-04b4-4bf3-af92-165faf5dcdec"
   },
   "outputs": [
    {
     "data": {
      "text/plain": [
       "0.8236202424754208"
      ]
     },
     "execution_count": 40,
     "metadata": {},
     "output_type": "execute_result"
    }
   ],
   "source": [
    "#Precision score for the random forest model\n",
    "precision_score(testrf, ytest)"
   ]
  },
  {
   "cell_type": "code",
   "execution_count": 41,
   "metadata": {
    "colab": {
     "base_uri": "https://localhost:8080/",
     "height": 33
    },
    "colab_type": "code",
    "id": "yR3uZQIuuOFm",
    "outputId": "c9044b77-4be8-4889-a8af-21e879959215"
   },
   "outputs": [
    {
     "data": {
      "text/plain": [
       "0.6499208371577241"
      ]
     },
     "execution_count": 41,
     "metadata": {},
     "output_type": "execute_result"
    }
   ],
   "source": [
    "#AUC score for the random forest model\n",
    "roc_auc_score(testrf, ytest)"
   ]
  },
  {
   "cell_type": "code",
   "execution_count": 43,
   "metadata": {
    "colab": {
     "base_uri": "https://localhost:8080/",
     "height": 421
    },
    "colab_type": "code",
    "id": "LdS2Z89QvtrH",
    "outputId": "4413e82e-35b8-47ff-fd48-f49cee562e59"
   },
   "outputs": [
    {
     "data": {
      "text/plain": [
       "<AxesSubplot:>"
      ]
     },
     "execution_count": 43,
     "metadata": {},
     "output_type": "execute_result"
    },
    {
     "data": {
      "image/png": "[encoded data removed]",
      "text/plain": [
       "<Figure size 432x288 with 1 Axes>"
      ]
     },
     "metadata": {
      "needs_background": "light"
     },
     "output_type": "display_data"
    }
   ],
   "source": [
    "feature_imp_reorder = pd.Series(clfrf.feature_importances_,index= df.columns)\n",
    "feature_imp_reorder.sort_values(ascending=False).plot(kind='bar')"
   ]
  },
  {
   "cell_type": "markdown",
   "metadata": {
    "colab_type": "text",
    "id": "PE5BCOoOv2p8"
   },
   "source": [
    "Looking at the feature importances for predicting whether a product will be reoredered or not, the most important features we observed are order_number, department, product, days since prior order and aisle"
   ]
  },
  {
   "cell_type": "markdown",
   "metadata": {},
   "source": [
    "## AdaBoost"
   ]
  },
  {
   "cell_type": "code",
   "execution_count": 44,
   "metadata": {
    "colab": {},
    "colab_type": "code",
    "id": "mv29DaQZwNjP"
   },
   "outputs": [],
   "source": [
    "from sklearn.ensemble import AdaBoostClassifier"
   ]
  },
  {
   "cell_type": "code",
   "execution_count": 45,
   "metadata": {
    "colab": {},
    "colab_type": "code",
    "id": "K9mF2hANwmGZ"
   },
   "outputs": [],
   "source": [
    "#AdaBoost Classifier buiding\n",
    "clfa = AdaBoostClassifier( n_estimators=24,random_state=True)"
   ]
  },
  {
   "cell_type": "code",
   "execution_count": 46,
   "metadata": {
    "colab": {
     "base_uri": "https://localhost:8080/",
     "height": 50
    },
    "colab_type": "code",
    "id": "sDnjM7uiwvO4",
    "outputId": "ecbe1c83-31a5-42a2-f62c-74f9cc478329"
   },
   "outputs": [
    {
     "data": {
      "text/plain": [
       "AdaBoostClassifier(n_estimators=24, random_state=True)"
      ]
     },
     "execution_count": 46,
     "metadata": {},
     "output_type": "execute_result"
    }
   ],
   "source": [
    "#fitting\n",
    "clfa.fit(Xtrain, ytrain)"
   ]
  },
  {
   "cell_type": "code",
   "execution_count": 47,
   "metadata": {
    "colab": {},
    "colab_type": "code",
    "id": "DiLp0wxOinON"
   },
   "outputs": [],
   "source": [
    "train = clfa.predict(Xtrain)"
   ]
  },
  {
   "cell_type": "code",
   "execution_count": 48,
   "metadata": {
    "colab": {
     "base_uri": "https://localhost:8080/",
     "height": 83
    },
    "colab_type": "code",
    "id": "XNhoifjIinVf",
    "outputId": "f185927e-6ec9-47da-9abb-64c13f2bc354"
   },
   "outputs": [
    {
     "name": "stdout",
     "output_type": "stream",
     "text": [
      "0.655712621655725\n",
      "0.8002013310603149\n",
      "0.6806752383759206\n",
      "0.6499208371577241\n"
     ]
    }
   ],
   "source": [
    "#Metrics for the random forest model\n",
    "print(accuracy_score(train,ytrain))\n",
    "print(precision_score(train, ytrain))\n",
    "print(recall_score(train,ytrain))\n",
    "print(roc_auc_score(testrf, ytest))\n"
   ]
  },
  {
   "cell_type": "code",
   "execution_count": 49,
   "metadata": {
    "colab": {},
    "colab_type": "code",
    "id": "8LQnpxq2w28i"
   },
   "outputs": [],
   "source": [
    "#testing\n",
    "testada = clfa.predict(Xtest)"
   ]
  },
  {
   "cell_type": "code",
   "execution_count": 50,
   "metadata": {
    "colab": {
     "base_uri": "https://localhost:8080/",
     "height": 83
    },
    "colab_type": "code",
    "id": "HQ8uS50DxFQ9",
    "outputId": "72c64d57-4189-4b6c-d89f-335fbb5e7e91"
   },
   "outputs": [
    {
     "name": "stdout",
     "output_type": "stream",
     "text": [
      "0.6565339226647022\n",
      "0.8013028530068158\n",
      "0.6812019280073839\n",
      "0.6394996746893727\n"
     ]
    }
   ],
   "source": [
    "#Metrics for AdaBoost Classifier\n",
    "\n",
    "print(accuracy_score(testada, ytest))\n",
    "print(precision_score(testada, ytest))\n",
    "print(recall_score(testada, ytest))\n",
    "print(roc_auc_score(testada, ytest))"
   ]
  },
  {
   "cell_type": "markdown",
   "metadata": {},
   "source": [
    "## Gradient Boosting"
   ]
  },
  {
   "cell_type": "code",
   "execution_count": 51,
   "metadata": {
    "colab": {},
    "colab_type": "code",
    "id": "1-XKnjZ6xU3d"
   },
   "outputs": [],
   "source": [
    "from sklearn.ensemble import GradientBoostingClassifier"
   ]
  },
  {
   "cell_type": "code",
   "execution_count": 52,
   "metadata": {
    "colab": {},
    "colab_type": "code",
    "id": "iJXVykwTxZm5"
   },
   "outputs": [],
   "source": [
    "clfg= GradientBoostingClassifier(max_features=\"log2\", max_depth=11, n_estimators=24,min_samples_split=1000)"
   ]
  },
  {
   "cell_type": "code",
   "execution_count": 53,
   "metadata": {
    "colab": {
     "base_uri": "https://localhost:8080/",
     "height": 183
    },
    "colab_type": "code",
    "id": "fP_UtH1_xcoL",
    "outputId": "dcfc6a14-a50d-4811-d6ed-ae926042f4e6"
   },
   "outputs": [
    {
     "data": {
      "text/plain": [
       "GradientBoostingClassifier(max_depth=11, max_features='log2',\n",
       "                           min_samples_split=1000, n_estimators=24)"
      ]
     },
     "execution_count": 53,
     "metadata": {},
     "output_type": "execute_result"
    }
   ],
   "source": [
    "#fitting\n",
    "clfg.fit(Xtrain, ytrain)"
   ]
  },
  {
   "cell_type": "code",
   "execution_count": 54,
   "metadata": {
    "colab": {},
    "colab_type": "code",
    "id": "RzOk88PLjuLy"
   },
   "outputs": [],
   "source": [
    "traing = clfg.predict(Xtrain)"
   ]
  },
  {
   "cell_type": "code",
   "execution_count": 55,
   "metadata": {
    "colab": {
     "base_uri": "https://localhost:8080/",
     "height": 83
    },
    "colab_type": "code",
    "id": "4IlIYUU3j0E9",
    "outputId": "2598ddf4-53ed-4d33-be06-515febae8d62"
   },
   "outputs": [
    {
     "name": "stdout",
     "output_type": "stream",
     "text": [
      "0.6757676962457866\n",
      "0.8280774090347314\n",
      "0.691305580378664\n",
      "0.663855652602479\n"
     ]
    }
   ],
   "source": [
    "#Metrics for Gradient Boosting Model on training Data\n",
    "\n",
    "print(accuracy_score(traing,ytrain))\n",
    "print(precision_score(traing,ytrain))\n",
    "print(recall_score(traing,ytrain))\n",
    "print(roc_auc_score(traing,ytrain))"
   ]
  },
  {
   "cell_type": "code",
   "execution_count": 56,
   "metadata": {
    "colab": {},
    "colab_type": "code",
    "id": "PAYKzXxFkQf4"
   },
   "outputs": [],
   "source": [
    "testg = clfg.predict(Xtest)"
   ]
  },
  {
   "cell_type": "code",
   "execution_count": 57,
   "metadata": {
    "colab": {
     "base_uri": "https://localhost:8080/",
     "height": 83
    },
    "colab_type": "code",
    "id": "f3co-EyxkTF1",
    "outputId": "b26b2365-6cc8-43fe-ef92-5d49b122faf9"
   },
   "outputs": [
    {
     "name": "stdout",
     "output_type": "stream",
     "text": [
      "0.670650912645106\n",
      "0.8245209803566761\n",
      "0.6875800599569437\n",
      "0.6575723329177408\n"
     ]
    }
   ],
   "source": [
    "#Metrics for Gradient Boosting Model on Test Data\n",
    "\n",
    "print(accuracy_score(testg, ytest))\n",
    "print(precision_score(testg, ytest))\n",
    "print(recall_score(testg, ytest))\n",
    "print(roc_auc_score(testg, ytest))"
   ]
  },
  {
   "cell_type": "markdown",
   "metadata": {},
   "source": [
    "-----"
   ]
  },
  {
   "cell_type": "markdown",
   "metadata": {
    "colab": {},
    "colab_type": "code",
    "id": "pk8mSHKhyl4t"
   },
   "source": [
    "# Problem for predicting department variable"
   ]
  },
  {
   "cell_type": "code",
   "execution_count": 71,
   "metadata": {
    "colab": {
     "base_uri": "https://localhost:8080/",
     "height": 378
    },
    "colab_type": "code",
    "id": "9ByEVvnIyqoq",
    "outputId": "67ee04a8-4dac-400b-e4f5-1ae921c9a700"
   },
   "outputs": [],
   "source": [
    "df_new = pd.read_pickle('./dataset.pkl')"
   ]
  },
  {
   "cell_type": "code",
   "execution_count": 72,
   "metadata": {
    "colab": {
     "base_uri": "https://localhost:8080/",
     "height": 222
    },
    "colab_type": "code",
    "id": "sJEBlNiA0szR",
    "outputId": "f20bd0ba-ea9a-4a14-8d2e-2fb5e4060cdc"
   },
   "outputs": [
    {
     "data": {
      "text/html": [
       "<div>\n",
       "<style scoped>\n",
       "    .dataframe tbody tr th:only-of-type {\n",
       "        vertical-align: middle;\n",
       "    }\n",
       "\n",
       "    .dataframe tbody tr th {\n",
       "        vertical-align: top;\n",
       "    }\n",
       "\n",
       "    .dataframe thead th {\n",
       "        text-align: right;\n",
       "    }\n",
       "</style>\n",
       "<table border=\"1\" class=\"dataframe\">\n",
       "  <thead>\n",
       "    <tr style=\"text-align: right;\">\n",
       "      <th></th>\n",
       "      <th>order_id</th>\n",
       "      <th>reordered</th>\n",
       "      <th>user_id</th>\n",
       "      <th>order_number</th>\n",
       "      <th>orders</th>\n",
       "      <th>reorders</th>\n",
       "      <th>reorder_rate</th>\n",
       "      <th>average_days_between_orders</th>\n",
       "      <th>nb_orders</th>\n",
       "      <th>total_items</th>\n",
       "      <th>average_basket</th>\n",
       "      <th>days_since_ratio</th>\n",
       "      <th>order_hour_of_day_new</th>\n",
       "      <th>order_dow_new</th>\n",
       "      <th>days_since_prior_order__new</th>\n",
       "      <th>dept_new</th>\n",
       "    </tr>\n",
       "  </thead>\n",
       "  <tbody>\n",
       "    <tr>\n",
       "      <th>0</th>\n",
       "      <td>1</td>\n",
       "      <td>1.0</td>\n",
       "      <td>112108</td>\n",
       "      <td>4</td>\n",
       "      <td>0.0</td>\n",
       "      <td>0.0</td>\n",
       "      <td>0.000000</td>\n",
       "      <td>1.000000</td>\n",
       "      <td>0.0</td>\n",
       "      <td>0.0</td>\n",
       "      <td>0.000000</td>\n",
       "      <td>9.000000</td>\n",
       "      <td>0.0</td>\n",
       "      <td>0.0</td>\n",
       "      <td>0.0</td>\n",
       "      <td>0.0</td>\n",
       "    </tr>\n",
       "    <tr>\n",
       "      <th>1</th>\n",
       "      <td>1</td>\n",
       "      <td>1.0</td>\n",
       "      <td>112108</td>\n",
       "      <td>4</td>\n",
       "      <td>76.0</td>\n",
       "      <td>49.0</td>\n",
       "      <td>0.644737</td>\n",
       "      <td>19.000000</td>\n",
       "      <td>10.0</td>\n",
       "      <td>11.0</td>\n",
       "      <td>1.100000</td>\n",
       "      <td>0.473684</td>\n",
       "      <td>0.0</td>\n",
       "      <td>0.0</td>\n",
       "      <td>0.0</td>\n",
       "      <td>0.0</td>\n",
       "    </tr>\n",
       "    <tr>\n",
       "      <th>2</th>\n",
       "      <td>1</td>\n",
       "      <td>0.0</td>\n",
       "      <td>112108</td>\n",
       "      <td>4</td>\n",
       "      <td>4.0</td>\n",
       "      <td>1.0</td>\n",
       "      <td>0.250000</td>\n",
       "      <td>16.285715</td>\n",
       "      <td>14.0</td>\n",
       "      <td>31.0</td>\n",
       "      <td>2.214286</td>\n",
       "      <td>0.552632</td>\n",
       "      <td>0.0</td>\n",
       "      <td>0.0</td>\n",
       "      <td>0.0</td>\n",
       "      <td>1.0</td>\n",
       "    </tr>\n",
       "    <tr>\n",
       "      <th>3</th>\n",
       "      <td>1</td>\n",
       "      <td>0.0</td>\n",
       "      <td>112108</td>\n",
       "      <td>4</td>\n",
       "      <td>6.0</td>\n",
       "      <td>6.0</td>\n",
       "      <td>1.000000</td>\n",
       "      <td>12.000000</td>\n",
       "      <td>12.0</td>\n",
       "      <td>0.0</td>\n",
       "      <td>0.000000</td>\n",
       "      <td>0.750000</td>\n",
       "      <td>0.0</td>\n",
       "      <td>0.0</td>\n",
       "      <td>0.0</td>\n",
       "      <td>1.0</td>\n",
       "    </tr>\n",
       "    <tr>\n",
       "      <th>4</th>\n",
       "      <td>1</td>\n",
       "      <td>1.0</td>\n",
       "      <td>112108</td>\n",
       "      <td>4</td>\n",
       "      <td>22.0</td>\n",
       "      <td>14.0</td>\n",
       "      <td>0.636364</td>\n",
       "      <td>17.000000</td>\n",
       "      <td>5.0</td>\n",
       "      <td>0.0</td>\n",
       "      <td>0.000000</td>\n",
       "      <td>0.529412</td>\n",
       "      <td>0.0</td>\n",
       "      <td>0.0</td>\n",
       "      <td>0.0</td>\n",
       "      <td>2.0</td>\n",
       "    </tr>\n",
       "  </tbody>\n",
       "</table>\n",
       "</div>"
      ],
      "text/plain": [
       "   order_id  reordered  user_id  order_number  orders  reorders  reorder_rate  \\\n",
       "0         1        1.0   112108             4     0.0       0.0      0.000000   \n",
       "1         1        1.0   112108             4    76.0      49.0      0.644737   \n",
       "2         1        0.0   112108             4     4.0       1.0      0.250000   \n",
       "3         1        0.0   112108             4     6.0       6.0      1.000000   \n",
       "4         1        1.0   112108             4    22.0      14.0      0.636364   \n",
       "\n",
       "   average_days_between_orders  nb_orders  total_items  average_basket  \\\n",
       "0                     1.000000        0.0          0.0        0.000000   \n",
       "1                    19.000000       10.0         11.0        1.100000   \n",
       "2                    16.285715       14.0         31.0        2.214286   \n",
       "3                    12.000000       12.0          0.0        0.000000   \n",
       "4                    17.000000        5.0          0.0        0.000000   \n",
       "\n",
       "   days_since_ratio  order_hour_of_day_new  order_dow_new  \\\n",
       "0          9.000000                    0.0            0.0   \n",
       "1          0.473684                    0.0            0.0   \n",
       "2          0.552632                    0.0            0.0   \n",
       "3          0.750000                    0.0            0.0   \n",
       "4          0.529412                    0.0            0.0   \n",
       "\n",
       "   days_since_prior_order__new  dept_new  \n",
       "0                          0.0       0.0  \n",
       "1                          0.0       0.0  \n",
       "2                          0.0       1.0  \n",
       "3                          0.0       1.0  \n",
       "4                          0.0       2.0  "
      ]
     },
     "execution_count": 72,
     "metadata": {},
     "output_type": "execute_result"
    }
   ],
   "source": [
    "df_new.head()"
   ]
  },
  {
   "cell_type": "code",
   "execution_count": 73,
   "metadata": {
    "colab": {},
    "colab_type": "code",
    "id": "BnisaPJe0xBD"
   },
   "outputs": [],
   "source": [
    "ynew = df_new['dept_new']\n",
    "del df_new['dept_new']"
   ]
  },
  {
   "cell_type": "code",
   "execution_count": 74,
   "metadata": {
    "colab": {},
    "colab_type": "code",
    "id": "e1iv8uKq06n-"
   },
   "outputs": [],
   "source": [
    "#Splitting the data into train and test\n",
    "Xtrainnew, Xtestnew, ytrainnew, ytestnew = train_test_split(df_new, ynew, test_size=0.30, random_state=5)"
   ]
  },
  {
   "cell_type": "markdown",
   "metadata": {},
   "source": [
    "## Random Forest Classifier\n"
   ]
  },
  {
   "cell_type": "code",
   "execution_count": 75,
   "metadata": {
    "colab": {},
    "colab_type": "code",
    "id": "FuZMGw7e1Efq"
   },
   "outputs": [],
   "source": [
    "#Random Forest Classifier\n",
    "\n",
    "clfrfnew = RandomForestClassifier(max_features=\"log2\", max_depth=11, n_estimators=24,min_samples_split=1000, oob_score=True)"
   ]
  },
  {
   "cell_type": "code",
   "execution_count": 76,
   "metadata": {
    "colab": {
     "base_uri": "https://localhost:8080/",
     "height": 228
    },
    "colab_type": "code",
    "id": "PLf-dwvQ1T30",
    "outputId": "76df6603-1063-49fa-cd5f-ad6b1850edc9"
   },
   "outputs": [
    {
     "name": "stderr",
     "output_type": "stream",
     "text": [
      "/Users/kesamsetty/opt/anaconda3/lib/python3.8/site-packages/sklearn/ensemble/_forest.py:541: UserWarning: Some inputs do not have OOB scores. This probably means too few trees were used to compute any reliable oob estimates.\n",
      "  warn(\"Some inputs do not have OOB scores. \"\n",
      "/Users/kesamsetty/opt/anaconda3/lib/python3.8/site-packages/sklearn/ensemble/_forest.py:545: RuntimeWarning: invalid value encountered in true_divide\n",
      "  decision = (predictions[k] /\n"
     ]
    },
    {
     "data": {
      "text/plain": [
       "RandomForestClassifier(max_depth=11, max_features='log2',\n",
       "                       min_samples_split=1000, n_estimators=24, oob_score=True)"
      ]
     },
     "execution_count": 76,
     "metadata": {},
     "output_type": "execute_result"
    }
   ],
   "source": [
    "#Building model\n",
    "clfrfnew.fit(Xtrainnew, ytrainnew)"
   ]
  },
  {
   "cell_type": "code",
   "execution_count": 77,
   "metadata": {
    "colab": {},
    "colab_type": "code",
    "id": "VWFw8Kwzp8P7"
   },
   "outputs": [],
   "source": [
    "trainnrf = clfrfnew.predict_proba(Xtrainnew)"
   ]
  },
  {
   "cell_type": "code",
   "execution_count": 78,
   "metadata": {
    "colab": {},
    "colab_type": "code",
    "id": "gG04vgfk3T1J"
   },
   "outputs": [],
   "source": [
    "#predictions and probabiliti\n",
    "testnrf =clfrfnew.predict_proba(Xtestnew)"
   ]
  },
  {
   "cell_type": "code",
   "execution_count": 79,
   "metadata": {
    "colab": {
     "base_uri": "https://localhost:8080/",
     "height": 431
    },
    "colab_type": "code",
    "id": "ofsSvn8J3Ztg",
    "outputId": "17e0be47-aa51-4158-9e8b-7380a57af3de"
   },
   "outputs": [
    {
     "data": {
      "text/plain": [
       "<AxesSubplot:>"
      ]
     },
     "execution_count": 79,
     "metadata": {},
     "output_type": "execute_result"
    },
    {
     "data": {
      "image/png": "[encoded data removed]",
      "text/plain": [
       "<Figure size 432x288 with 1 Axes>"
      ]
     },
     "metadata": {
      "needs_background": "light"
     },
     "output_type": "display_data"
    }
   ],
   "source": [
    "feature_imp_dept = pd.Series(clfrfnew.feature_importances_,index= df_new.columns)\n",
    "feature_imp_dept.sort_values(ascending=False).plot(kind='bar')"
   ]
  },
  {
   "cell_type": "markdown",
   "metadata": {
    "colab_type": "text",
    "id": "wE75Ruvm3g6v"
   },
   "source": [
    "The most important features while predicting the department are: Reordered, day of week, order number, user_id and order_id."
   ]
  },
  {
   "cell_type": "code",
   "execution_count": 80,
   "metadata": {
    "colab": {
     "base_uri": "https://localhost:8080/",
     "height": 35
    },
    "colab_type": "code",
    "id": "dSZ06dvz3nSi",
    "outputId": "8b5f3057-f26c-49da-8f2d-e6d71148c3ff"
   },
   "outputs": [
    {
     "data": {
      "text/plain": [
       "2.3429320833738223"
      ]
     },
     "execution_count": 80,
     "metadata": {},
     "output_type": "execute_result"
    }
   ],
   "source": [
    "# Log loss for the Random Forest model\n",
    "from sklearn.metrics import log_loss\n",
    "log_loss(ytestnew,testnrf)\n"
   ]
  },
  {
   "cell_type": "code",
   "execution_count": 81,
   "metadata": {
    "colab": {
     "base_uri": "https://localhost:8080/",
     "height": 35
    },
    "colab_type": "code",
    "id": "2WkdQJ9iLDPa",
    "outputId": "dbe57b3c-773f-46d6-e707-02d3f039f87e"
   },
   "outputs": [
    {
     "data": {
      "text/plain": [
       "2.3338350429785755"
      ]
     },
     "execution_count": 81,
     "metadata": {},
     "output_type": "execute_result"
    }
   ],
   "source": [
    "log_loss(ytrainnew,trainnrf)"
   ]
  },
  {
   "cell_type": "markdown",
   "metadata": {},
   "source": [
    "## Gradient Boosting Classifier\n"
   ]
  },
  {
   "cell_type": "code",
   "execution_count": 82,
   "metadata": {
    "colab": {},
    "colab_type": "code",
    "id": "5Y7wBgAK5hGW"
   },
   "outputs": [],
   "source": [
    "#Gradient Boosting Classifier\n",
    "clfgb= GradientBoostingClassifier(max_features=\"log2\", max_depth=11, n_estimators=24,min_samples_split=1000)"
   ]
  },
  {
   "cell_type": "code",
   "execution_count": 83,
   "metadata": {
    "colab": {
     "base_uri": "https://localhost:8080/",
     "height": 191
    },
    "colab_type": "code",
    "id": "_Idnxs_86KBv",
    "outputId": "50cbdf1b-0343-4ece-cf93-12f5f8ce3715"
   },
   "outputs": [
    {
     "data": {
      "text/plain": [
       "GradientBoostingClassifier(max_depth=11, max_features='log2',\n",
       "                           min_samples_split=1000, n_estimators=24)"
      ]
     },
     "execution_count": 83,
     "metadata": {},
     "output_type": "execute_result"
    }
   ],
   "source": [
    "#fitting\n",
    "clfgb.fit(Xtrainnew,ytrainnew)"
   ]
  },
  {
   "cell_type": "code",
   "execution_count": 84,
   "metadata": {
    "colab": {},
    "colab_type": "code",
    "id": "39mEy0yKXJqb"
   },
   "outputs": [],
   "source": [
    "predgbterainn=clfgb.predict_proba(Xtrainnew)"
   ]
  },
  {
   "cell_type": "code",
   "execution_count": 85,
   "metadata": {
    "colab": {},
    "colab_type": "code",
    "id": "tWxD7Adl6SKw"
   },
   "outputs": [],
   "source": [
    "#predictions and probabilties\n",
    "predgbnewp =clfgb.predict_proba(Xtestnew)"
   ]
  },
  {
   "cell_type": "code",
   "execution_count": 86,
   "metadata": {
    "colab": {
     "base_uri": "https://localhost:8080/",
     "height": 35
    },
    "colab_type": "code",
    "id": "inDvqL_VBawz",
    "outputId": "9a25b0ed-ca5e-44c8-e948-92376839f47f"
   },
   "outputs": [
    {
     "data": {
      "text/plain": [
       "2.3425842964945995"
      ]
     },
     "execution_count": 86,
     "metadata": {},
     "output_type": "execute_result"
    }
   ],
   "source": [
    "#Log loss score for Gradient Boosting Classifier\n",
    "log_loss( ytestnew,predgbnewp)\n"
   ]
  },
  {
   "cell_type": "code",
   "execution_count": 87,
   "metadata": {
    "colab": {
     "base_uri": "https://localhost:8080/",
     "height": 35
    },
    "colab_type": "code",
    "id": "ggFmxhsuLl_h",
    "outputId": "14cfcd29-a2d2-439d-ff12-f3feecb8e627"
   },
   "outputs": [
    {
     "data": {
      "text/plain": [
       "2.2873423800021246"
      ]
     },
     "execution_count": 87,
     "metadata": {},
     "output_type": "execute_result"
    }
   ],
   "source": [
    "log_loss(ytrainnew,predgbterainn)"
   ]
  },
  {
   "cell_type": "code",
   "execution_count": 88,
   "metadata": {
    "colab": {},
    "colab_type": "code",
    "id": "SN7Lus3EBjnB"
   },
   "outputs": [],
   "source": [
    "clfada = AdaBoostClassifier( n_estimators=24,random_state=True)"
   ]
  },
  {
   "cell_type": "code",
   "execution_count": 89,
   "metadata": {
    "colab": {},
    "colab_type": "code",
    "id": "iDT8ZopuBpvY"
   },
   "outputs": [],
   "source": [
    "predadatrain = clfada.fit(Xtrainnew, ytrainnew)"
   ]
  },
  {
   "cell_type": "code",
   "execution_count": 90,
   "metadata": {
    "colab": {},
    "colab_type": "code",
    "id": "RTa4RVV7lCqI"
   },
   "outputs": [],
   "source": [
    "predaptr = clfada.predict_proba(Xtrainnew)"
   ]
  },
  {
   "cell_type": "code",
   "execution_count": 91,
   "metadata": {
    "colab": {},
    "colab_type": "code",
    "id": "ykSpmzcRCHph"
   },
   "outputs": [],
   "source": [
    "#predictions and probabilities\n",
    "predadap = clfada.predict_proba(Xtestnew)"
   ]
  },
  {
   "cell_type": "code",
   "execution_count": 92,
   "metadata": {
    "colab": {
     "base_uri": "https://localhost:8080/",
     "height": 35
    },
    "colab_type": "code",
    "id": "4WLH6USNCM_q",
    "outputId": "90a76469-b2d6-49a6-e72e-75e256313f22"
   },
   "outputs": [
    {
     "data": {
      "text/plain": [
       "2.979625315097"
      ]
     },
     "execution_count": 92,
     "metadata": {},
     "output_type": "execute_result"
    }
   ],
   "source": [
    "log_loss(ytestnew,predadap)"
   ]
  },
  {
   "cell_type": "code",
   "execution_count": 93,
   "metadata": {
    "colab": {
     "base_uri": "https://localhost:8080/",
     "height": 35
    },
    "colab_type": "code",
    "id": "Muwb4zM3L3iH",
    "outputId": "2040f7c5-5c67-4950-e1f8-52d5a9e99ea8"
   },
   "outputs": [
    {
     "data": {
      "text/plain": [
       "2.9795467406613367"
      ]
     },
     "execution_count": 93,
     "metadata": {},
     "output_type": "execute_result"
    }
   ],
   "source": [
    "log_loss( ytrainnew,predaptr)"
   ]
  },
  {
   "cell_type": "markdown",
   "metadata": {
    "colab_type": "text",
    "id": "-y7jI84qEtse"
   },
   "source": [
    "# Observations:\n",
    "\n",
    "- The best model for predicting whether a product will be reorodered or not is the Gradient Boosting Classifier with 0.67 accuracy. \n",
    "- Whereas while predicting the category of the department, Random Forest Classifier is the best model with a log loss score of 2.342."
   ]
  },
  {
   "cell_type": "code",
   "execution_count": null,
   "metadata": {},
   "outputs": [],
   "source": []
  }
 ],
 "metadata": {
  "accelerator": "GPU",
  "colab": {
   "collapsed_sections": [],
   "include_colab_link": true,
   "machine_shape": "hm",
   "name": "Instacart market basket analysis.ipynb",
   "provenance": []
  },
  "kernelspec": {
   "display_name": "Python 3",
   "language": "python",
   "name": "python3"
  },
  "language_info": {
   "codemirror_mode": {
    "name": "ipython",
    "version": 3
   },
   "file_extension": ".py",
   "mimetype": "text/x-python",
   "name": "python",
   "nbconvert_exporter": "python",
   "pygments_lexer": "ipython3",
   "version": "3.9.2"
  }
 },
 "nbformat": 4,
 "nbformat_minor": 1
}
